{
 "cells": [
  {
   "cell_type": "code",
   "execution_count": 2,
   "id": "cf74c27f-8723-4ccb-9d6e-7402824dd747",
   "metadata": {},
   "outputs": [],
   "source": [
    "import pandas as pd\n",
    "import numpy as np\n",
    "import matplotlib.pyplot as plt\n",
    "from sklearn.model_selection import train_test_split\n",
    "import seaborn as sns\n"
   ]
  },
  {
   "cell_type": "code",
   "execution_count": 13,
   "id": "16e10c47-17d1-4dd8-9e7b-f8c56b95b02e",
   "metadata": {},
   "outputs": [
    {
     "ename": "KeyboardInterrupt",
     "evalue": "",
     "output_type": "error",
     "traceback": [
      "\u001b[0;31m---------------------------------------------------------------------------\u001b[0m",
      "\u001b[0;31mKeyboardInterrupt\u001b[0m                         Traceback (most recent call last)",
      "\u001b[0;32m/var/folders/85/gfsz06392cx1589spz1jvvtc0000gn/T/ipykernel_30744/862615379.py\u001b[0m in \u001b[0;36m<module>\u001b[0;34m\u001b[0m\n\u001b[1;32m      1\u001b[0m \u001b[0;31m# Read the saved csv from the earlier notebook and set the index to the date_time column\u001b[0m\u001b[0;34m\u001b[0m\u001b[0;34m\u001b[0m\u001b[0;34m\u001b[0m\u001b[0m\n\u001b[1;32m      2\u001b[0m \u001b[0;34m\u001b[0m\u001b[0m\n\u001b[0;32m----> 3\u001b[0;31m \u001b[0mtaxi_2020\u001b[0m \u001b[0;34m=\u001b[0m \u001b[0mpd\u001b[0m\u001b[0;34m.\u001b[0m\u001b[0mread_csv\u001b[0m\u001b[0;34m(\u001b[0m\u001b[0;34m\"./data/taxi_2020_clean_2.csv\"\u001b[0m\u001b[0;34m)\u001b[0m\u001b[0;34m\u001b[0m\u001b[0;34m\u001b[0m\u001b[0m\n\u001b[0m",
      "\u001b[0;32m~/opt/miniconda3/lib/python3.9/site-packages/pandas/util/_decorators.py\u001b[0m in \u001b[0;36mwrapper\u001b[0;34m(*args, **kwargs)\u001b[0m\n\u001b[1;32m    309\u001b[0m                     \u001b[0mstacklevel\u001b[0m\u001b[0;34m=\u001b[0m\u001b[0mstacklevel\u001b[0m\u001b[0;34m,\u001b[0m\u001b[0;34m\u001b[0m\u001b[0;34m\u001b[0m\u001b[0m\n\u001b[1;32m    310\u001b[0m                 )\n\u001b[0;32m--> 311\u001b[0;31m             \u001b[0;32mreturn\u001b[0m \u001b[0mfunc\u001b[0m\u001b[0;34m(\u001b[0m\u001b[0;34m*\u001b[0m\u001b[0margs\u001b[0m\u001b[0;34m,\u001b[0m \u001b[0;34m**\u001b[0m\u001b[0mkwargs\u001b[0m\u001b[0;34m)\u001b[0m\u001b[0;34m\u001b[0m\u001b[0;34m\u001b[0m\u001b[0m\n\u001b[0m\u001b[1;32m    312\u001b[0m \u001b[0;34m\u001b[0m\u001b[0m\n\u001b[1;32m    313\u001b[0m         \u001b[0;32mreturn\u001b[0m \u001b[0mwrapper\u001b[0m\u001b[0;34m\u001b[0m\u001b[0;34m\u001b[0m\u001b[0m\n",
      "\u001b[0;32m~/opt/miniconda3/lib/python3.9/site-packages/pandas/io/parsers/readers.py\u001b[0m in \u001b[0;36mread_csv\u001b[0;34m(filepath_or_buffer, sep, delimiter, header, names, index_col, usecols, squeeze, prefix, mangle_dupe_cols, dtype, engine, converters, true_values, false_values, skipinitialspace, skiprows, skipfooter, nrows, na_values, keep_default_na, na_filter, verbose, skip_blank_lines, parse_dates, infer_datetime_format, keep_date_col, date_parser, dayfirst, cache_dates, iterator, chunksize, compression, thousands, decimal, lineterminator, quotechar, quoting, doublequote, escapechar, comment, encoding, encoding_errors, dialect, error_bad_lines, warn_bad_lines, on_bad_lines, delim_whitespace, low_memory, memory_map, float_precision, storage_options)\u001b[0m\n\u001b[1;32m    584\u001b[0m     \u001b[0mkwds\u001b[0m\u001b[0;34m.\u001b[0m\u001b[0mupdate\u001b[0m\u001b[0;34m(\u001b[0m\u001b[0mkwds_defaults\u001b[0m\u001b[0;34m)\u001b[0m\u001b[0;34m\u001b[0m\u001b[0;34m\u001b[0m\u001b[0m\n\u001b[1;32m    585\u001b[0m \u001b[0;34m\u001b[0m\u001b[0m\n\u001b[0;32m--> 586\u001b[0;31m     \u001b[0;32mreturn\u001b[0m \u001b[0m_read\u001b[0m\u001b[0;34m(\u001b[0m\u001b[0mfilepath_or_buffer\u001b[0m\u001b[0;34m,\u001b[0m \u001b[0mkwds\u001b[0m\u001b[0;34m)\u001b[0m\u001b[0;34m\u001b[0m\u001b[0;34m\u001b[0m\u001b[0m\n\u001b[0m\u001b[1;32m    587\u001b[0m \u001b[0;34m\u001b[0m\u001b[0m\n\u001b[1;32m    588\u001b[0m \u001b[0;34m\u001b[0m\u001b[0m\n",
      "\u001b[0;32m~/opt/miniconda3/lib/python3.9/site-packages/pandas/io/parsers/readers.py\u001b[0m in \u001b[0;36m_read\u001b[0;34m(filepath_or_buffer, kwds)\u001b[0m\n\u001b[1;32m    486\u001b[0m \u001b[0;34m\u001b[0m\u001b[0m\n\u001b[1;32m    487\u001b[0m     \u001b[0;32mwith\u001b[0m \u001b[0mparser\u001b[0m\u001b[0;34m:\u001b[0m\u001b[0;34m\u001b[0m\u001b[0;34m\u001b[0m\u001b[0m\n\u001b[0;32m--> 488\u001b[0;31m         \u001b[0;32mreturn\u001b[0m \u001b[0mparser\u001b[0m\u001b[0;34m.\u001b[0m\u001b[0mread\u001b[0m\u001b[0;34m(\u001b[0m\u001b[0mnrows\u001b[0m\u001b[0;34m)\u001b[0m\u001b[0;34m\u001b[0m\u001b[0;34m\u001b[0m\u001b[0m\n\u001b[0m\u001b[1;32m    489\u001b[0m \u001b[0;34m\u001b[0m\u001b[0m\n\u001b[1;32m    490\u001b[0m \u001b[0;34m\u001b[0m\u001b[0m\n",
      "\u001b[0;32m~/opt/miniconda3/lib/python3.9/site-packages/pandas/io/parsers/readers.py\u001b[0m in \u001b[0;36mread\u001b[0;34m(self, nrows)\u001b[0m\n\u001b[1;32m   1045\u001b[0m     \u001b[0;32mdef\u001b[0m \u001b[0mread\u001b[0m\u001b[0;34m(\u001b[0m\u001b[0mself\u001b[0m\u001b[0;34m,\u001b[0m \u001b[0mnrows\u001b[0m\u001b[0;34m=\u001b[0m\u001b[0;32mNone\u001b[0m\u001b[0;34m)\u001b[0m\u001b[0;34m:\u001b[0m\u001b[0;34m\u001b[0m\u001b[0;34m\u001b[0m\u001b[0m\n\u001b[1;32m   1046\u001b[0m         \u001b[0mnrows\u001b[0m \u001b[0;34m=\u001b[0m \u001b[0mvalidate_integer\u001b[0m\u001b[0;34m(\u001b[0m\u001b[0;34m\"nrows\"\u001b[0m\u001b[0;34m,\u001b[0m \u001b[0mnrows\u001b[0m\u001b[0;34m)\u001b[0m\u001b[0;34m\u001b[0m\u001b[0;34m\u001b[0m\u001b[0m\n\u001b[0;32m-> 1047\u001b[0;31m         \u001b[0mindex\u001b[0m\u001b[0;34m,\u001b[0m \u001b[0mcolumns\u001b[0m\u001b[0;34m,\u001b[0m \u001b[0mcol_dict\u001b[0m \u001b[0;34m=\u001b[0m \u001b[0mself\u001b[0m\u001b[0;34m.\u001b[0m\u001b[0m_engine\u001b[0m\u001b[0;34m.\u001b[0m\u001b[0mread\u001b[0m\u001b[0;34m(\u001b[0m\u001b[0mnrows\u001b[0m\u001b[0;34m)\u001b[0m\u001b[0;34m\u001b[0m\u001b[0;34m\u001b[0m\u001b[0m\n\u001b[0m\u001b[1;32m   1048\u001b[0m \u001b[0;34m\u001b[0m\u001b[0m\n\u001b[1;32m   1049\u001b[0m         \u001b[0;32mif\u001b[0m \u001b[0mindex\u001b[0m \u001b[0;32mis\u001b[0m \u001b[0;32mNone\u001b[0m\u001b[0;34m:\u001b[0m\u001b[0;34m\u001b[0m\u001b[0;34m\u001b[0m\u001b[0m\n",
      "\u001b[0;32m~/opt/miniconda3/lib/python3.9/site-packages/pandas/io/parsers/c_parser_wrapper.py\u001b[0m in \u001b[0;36mread\u001b[0;34m(self, nrows)\u001b[0m\n\u001b[1;32m    221\u001b[0m         \u001b[0;32mtry\u001b[0m\u001b[0;34m:\u001b[0m\u001b[0;34m\u001b[0m\u001b[0;34m\u001b[0m\u001b[0m\n\u001b[1;32m    222\u001b[0m             \u001b[0;32mif\u001b[0m \u001b[0mself\u001b[0m\u001b[0;34m.\u001b[0m\u001b[0mlow_memory\u001b[0m\u001b[0;34m:\u001b[0m\u001b[0;34m\u001b[0m\u001b[0;34m\u001b[0m\u001b[0m\n\u001b[0;32m--> 223\u001b[0;31m                 \u001b[0mchunks\u001b[0m \u001b[0;34m=\u001b[0m \u001b[0mself\u001b[0m\u001b[0;34m.\u001b[0m\u001b[0m_reader\u001b[0m\u001b[0;34m.\u001b[0m\u001b[0mread_low_memory\u001b[0m\u001b[0;34m(\u001b[0m\u001b[0mnrows\u001b[0m\u001b[0;34m)\u001b[0m\u001b[0;34m\u001b[0m\u001b[0;34m\u001b[0m\u001b[0m\n\u001b[0m\u001b[1;32m    224\u001b[0m                 \u001b[0;31m# destructive to chunks\u001b[0m\u001b[0;34m\u001b[0m\u001b[0;34m\u001b[0m\u001b[0;34m\u001b[0m\u001b[0m\n\u001b[1;32m    225\u001b[0m                 \u001b[0mdata\u001b[0m \u001b[0;34m=\u001b[0m \u001b[0m_concatenate_chunks\u001b[0m\u001b[0;34m(\u001b[0m\u001b[0mchunks\u001b[0m\u001b[0;34m)\u001b[0m\u001b[0;34m\u001b[0m\u001b[0;34m\u001b[0m\u001b[0m\n",
      "\u001b[0;32m~/opt/miniconda3/lib/python3.9/site-packages/pandas/_libs/parsers.pyx\u001b[0m in \u001b[0;36mpandas._libs.parsers.TextReader.read_low_memory\u001b[0;34m()\u001b[0m\n",
      "\u001b[0;32m~/opt/miniconda3/lib/python3.9/site-packages/pandas/_libs/parsers.pyx\u001b[0m in \u001b[0;36mpandas._libs.parsers.TextReader._read_rows\u001b[0;34m()\u001b[0m\n",
      "\u001b[0;32m~/opt/miniconda3/lib/python3.9/site-packages/pandas/_libs/parsers.pyx\u001b[0m in \u001b[0;36mpandas._libs.parsers.TextReader._convert_column_data\u001b[0;34m()\u001b[0m\n",
      "\u001b[0;32m~/opt/miniconda3/lib/python3.9/site-packages/pandas/_libs/parsers.pyx\u001b[0m in \u001b[0;36mpandas._libs.parsers.TextReader._convert_tokens\u001b[0;34m()\u001b[0m\n",
      "\u001b[0;32m~/opt/miniconda3/lib/python3.9/site-packages/pandas/_libs/parsers.pyx\u001b[0m in \u001b[0;36mpandas._libs.parsers.TextReader._convert_with_dtype\u001b[0;34m()\u001b[0m\n",
      "\u001b[0;32m~/opt/miniconda3/lib/python3.9/site-packages/pandas/core/dtypes/common.py\u001b[0m in \u001b[0;36mis_extension_array_dtype\u001b[0;34m(arr_or_dtype)\u001b[0m\n\u001b[1;32m   1418\u001b[0m \u001b[0;34m\u001b[0m\u001b[0m\n\u001b[1;32m   1419\u001b[0m \u001b[0;34m\u001b[0m\u001b[0m\n\u001b[0;32m-> 1420\u001b[0;31m \u001b[0;32mdef\u001b[0m \u001b[0mis_extension_array_dtype\u001b[0m\u001b[0;34m(\u001b[0m\u001b[0marr_or_dtype\u001b[0m\u001b[0;34m)\u001b[0m \u001b[0;34m->\u001b[0m \u001b[0mbool\u001b[0m\u001b[0;34m:\u001b[0m\u001b[0;34m\u001b[0m\u001b[0;34m\u001b[0m\u001b[0m\n\u001b[0m\u001b[1;32m   1421\u001b[0m     \"\"\"\n\u001b[1;32m   1422\u001b[0m     \u001b[0mCheck\u001b[0m \u001b[0;32mif\u001b[0m \u001b[0man\u001b[0m \u001b[0mobject\u001b[0m \u001b[0;32mis\u001b[0m \u001b[0ma\u001b[0m \u001b[0mpandas\u001b[0m \u001b[0mextension\u001b[0m \u001b[0marray\u001b[0m \u001b[0mtype\u001b[0m\u001b[0;34m.\u001b[0m\u001b[0;34m\u001b[0m\u001b[0;34m\u001b[0m\u001b[0m\n",
      "\u001b[0;31mKeyboardInterrupt\u001b[0m: "
     ]
    }
   ],
   "source": [
    "# Read the saved csv from the earlier notebook and set the index to the date_time column\n",
    "\n",
    "taxi_2020 = pd.read_csv(\"./data/taxi_2020_clean_2.csv\")"
   ]
  },
  {
   "cell_type": "code",
   "execution_count": 4,
   "id": "83177057-6a42-478d-8761-1d493a1b85c5",
   "metadata": {},
   "outputs": [],
   "source": [
    "# taxi_2020.reset_index()\n",
    "# taxi_2020.sort_index(inplace=True)"
   ]
  },
  {
   "cell_type": "code",
   "execution_count": 3,
   "id": "6f681c21-6009-46b3-a744-f41ef657de1b",
   "metadata": {},
   "outputs": [
    {
     "data": {
      "text/html": [
       "<div>\n",
       "<style scoped>\n",
       "    .dataframe tbody tr th:only-of-type {\n",
       "        vertical-align: middle;\n",
       "    }\n",
       "\n",
       "    .dataframe tbody tr th {\n",
       "        vertical-align: top;\n",
       "    }\n",
       "\n",
       "    .dataframe thead th {\n",
       "        text-align: right;\n",
       "    }\n",
       "</style>\n",
       "<table border=\"1\" class=\"dataframe\">\n",
       "  <thead>\n",
       "    <tr style=\"text-align: right;\">\n",
       "      <th></th>\n",
       "      <th>Unnamed: 0</th>\n",
       "      <th>VendorID</th>\n",
       "      <th>pickup_datetime</th>\n",
       "      <th>dropoff_datetime</th>\n",
       "      <th>passenger_count</th>\n",
       "      <th>trip_distance</th>\n",
       "      <th>RatecodeID</th>\n",
       "      <th>store_and_fwd_flag</th>\n",
       "      <th>PULocationID</th>\n",
       "      <th>DOLocationID</th>\n",
       "      <th>...</th>\n",
       "      <th>pickup_day_of_week</th>\n",
       "      <th>dropoff_day_of_week</th>\n",
       "      <th>pickup_hour</th>\n",
       "      <th>dropoff_hour</th>\n",
       "      <th>pickup_timeofday</th>\n",
       "      <th>dropoff_timeofday</th>\n",
       "      <th>trip_time</th>\n",
       "      <th>pickup_borough</th>\n",
       "      <th>dropoff_borough</th>\n",
       "      <th>zone</th>\n",
       "    </tr>\n",
       "  </thead>\n",
       "  <tbody>\n",
       "    <tr>\n",
       "      <th>0</th>\n",
       "      <td>0</td>\n",
       "      <td>1.0</td>\n",
       "      <td>2020-01-01 00:28:15</td>\n",
       "      <td>2020-01-01 00:33:03</td>\n",
       "      <td>1.0</td>\n",
       "      <td>1.2</td>\n",
       "      <td>1.0</td>\n",
       "      <td>N</td>\n",
       "      <td>238</td>\n",
       "      <td>239</td>\n",
       "      <td>...</td>\n",
       "      <td>Wednesday</td>\n",
       "      <td>Wednesday</td>\n",
       "      <td>0</td>\n",
       "      <td>0</td>\n",
       "      <td>Late night</td>\n",
       "      <td>Late night</td>\n",
       "      <td>0 days 00:04:48</td>\n",
       "      <td>Manhattan</td>\n",
       "      <td>Manhattan</td>\n",
       "      <td>Upper West Side North</td>\n",
       "    </tr>\n",
       "    <tr>\n",
       "      <th>1</th>\n",
       "      <td>1</td>\n",
       "      <td>1.0</td>\n",
       "      <td>2020-01-01 00:35:39</td>\n",
       "      <td>2020-01-01 00:43:04</td>\n",
       "      <td>1.0</td>\n",
       "      <td>1.2</td>\n",
       "      <td>1.0</td>\n",
       "      <td>N</td>\n",
       "      <td>239</td>\n",
       "      <td>238</td>\n",
       "      <td>...</td>\n",
       "      <td>Wednesday</td>\n",
       "      <td>Wednesday</td>\n",
       "      <td>0</td>\n",
       "      <td>0</td>\n",
       "      <td>Late night</td>\n",
       "      <td>Late night</td>\n",
       "      <td>0 days 00:07:25</td>\n",
       "      <td>Manhattan</td>\n",
       "      <td>Manhattan</td>\n",
       "      <td>Upper West Side South</td>\n",
       "    </tr>\n",
       "  </tbody>\n",
       "</table>\n",
       "<p>2 rows × 31 columns</p>\n",
       "</div>"
      ],
      "text/plain": [
       "   Unnamed: 0  VendorID      pickup_datetime     dropoff_datetime  \\\n",
       "0           0       1.0  2020-01-01 00:28:15  2020-01-01 00:33:03   \n",
       "1           1       1.0  2020-01-01 00:35:39  2020-01-01 00:43:04   \n",
       "\n",
       "   passenger_count  trip_distance  RatecodeID store_and_fwd_flag  \\\n",
       "0              1.0            1.2         1.0                  N   \n",
       "1              1.0            1.2         1.0                  N   \n",
       "\n",
       "   PULocationID  DOLocationID  ...  pickup_day_of_week  dropoff_day_of_week  \\\n",
       "0           238           239  ...           Wednesday            Wednesday   \n",
       "1           239           238  ...           Wednesday            Wednesday   \n",
       "\n",
       "   pickup_hour  dropoff_hour  pickup_timeofday  dropoff_timeofday  \\\n",
       "0            0             0        Late night         Late night   \n",
       "1            0             0        Late night         Late night   \n",
       "\n",
       "         trip_time  pickup_borough  dropoff_borough                   zone  \n",
       "0  0 days 00:04:48       Manhattan        Manhattan  Upper West Side North  \n",
       "1  0 days 00:07:25       Manhattan        Manhattan  Upper West Side South  \n",
       "\n",
       "[2 rows x 31 columns]"
      ]
     },
     "execution_count": 3,
     "metadata": {},
     "output_type": "execute_result"
    }
   ],
   "source": [
    "taxi_2020.head(2)"
   ]
  },
  {
   "cell_type": "code",
   "execution_count": 3,
   "id": "a7a15980-d1e4-42b8-a7ee-cf00510107f6",
   "metadata": {},
   "outputs": [],
   "source": [
    "taxi_2020=taxi_2020.drop(columns=['Unnamed: 0', 'dropoff_datetime', 'store_and_fwd_flag', 'trip_time', 'DOLocationID', 'improvement_surcharge'])"
   ]
  },
  {
   "cell_type": "code",
   "execution_count": 7,
   "id": "452cd69e-8d93-480f-86dc-a7bc926a0276",
   "metadata": {},
   "outputs": [],
   "source": [
    "# taxi_2020.head(2)"
   ]
  },
  {
   "cell_type": "code",
   "execution_count": 8,
   "id": "cbee8068-48b7-44e1-bb35-051f5c592941",
   "metadata": {},
   "outputs": [],
   "source": [
    "##seggregating by borough\n",
    "\n",
    "taxi_manhattan = taxi_2020.loc[taxi_2020.pickup_borough == 'Manhattan',:]\n",
    "taxi_queens = taxi_2020.loc[taxi_2020.pickup_borough == 'Queens',:]\n",
    "taxi_brooklyn = taxi_2020.loc[taxi_2020.pickup_borough == 'Brooklyn',:]\n",
    "taxi_bronx = taxi_2020.loc[taxi_2020.pickup_borough == 'Bronx',:]\n",
    "taxi_staten_island = taxi_2020.loc[taxi_2020.pickup_borough == 'Staten Island',:]"
   ]
  },
  {
   "cell_type": "code",
   "execution_count": 9,
   "id": "bf576cee-bcba-4552-ab4a-50b5c8837f8d",
   "metadata": {
    "tags": []
   },
   "outputs": [],
   "source": [
    "## Saving to csv\n",
    "taxi_manhattan.to_csv('./data/taxi_manhattan_2020.csv')\n",
    "taxi_queens.to_csv('./data/taxi_queens_2020.csv')\n",
    "taxi_brooklyn.to_csv('./data/taxi_brooklyn_2020.csv')\n",
    "taxi_bronx.to_csv('./data/taxi_bronx_2020.csv')\n",
    "taxi_staten_island.to_csv('./data/taxi_staten_island_2020.csv')"
   ]
  },
  {
   "cell_type": "code",
   "execution_count": 3,
   "id": "a5742d01-fa2c-47ea-96ba-b501a96d69e1",
   "metadata": {},
   "outputs": [],
   "source": [
    "##Combining 2019 & 2020 borough csvs\n",
    "manhattan_2019= pd.read_csv('./data/taxi_manhattan.csv')\n"
   ]
  },
  {
   "cell_type": "code",
   "execution_count": 4,
   "id": "d11ab67f-6322-43bb-96c7-da8dfe7ad52d",
   "metadata": {},
   "outputs": [
    {
     "data": {
      "text/plain": [
       "(70334952, 28)"
      ]
     },
     "execution_count": 4,
     "metadata": {},
     "output_type": "execute_result"
    }
   ],
   "source": [
    "manhattan_2019.shape"
   ]
  },
  {
   "cell_type": "code",
   "execution_count": 14,
   "id": "f4060b2a-8626-47a1-84a6-e84211fba605",
   "metadata": {},
   "outputs": [],
   "source": [
    "taxi_manhattan = pd.read_csv('./data/taxi_manhattan_2020.csv')"
   ]
  },
  {
   "cell_type": "code",
   "execution_count": 6,
   "id": "84740070-f2e4-4d9a-b7db-02f507493cd9",
   "metadata": {},
   "outputs": [],
   "source": [
    "from numpy.random import default_rng"
   ]
  },
  {
   "cell_type": "code",
   "execution_count": 7,
   "id": "e746c52c-6350-45fb-856e-938663d63078",
   "metadata": {},
   "outputs": [],
   "source": [
    "arr_indices_top_drop = default_rng().choice(manhattan_2019.index, size=26_000_000, replace=False)\n"
   ]
  },
  {
   "cell_type": "code",
   "execution_count": 8,
   "id": "843b1ad9-2a9b-49f0-89cb-43c713fe3b95",
   "metadata": {},
   "outputs": [],
   "source": [
    "manhattan_2019 = manhattan_2019.drop(index=arr_indices_top_drop)"
   ]
  },
  {
   "cell_type": "code",
   "execution_count": 12,
   "id": "f5e29501-674d-4d24-b9a5-105e8c933319",
   "metadata": {},
   "outputs": [
    {
     "data": {
      "text/plain": [
       "(59784952, 28)"
      ]
     },
     "execution_count": 12,
     "metadata": {},
     "output_type": "execute_result"
    }
   ],
   "source": [
    "manhattan_2019.shape"
   ]
  },
  {
   "cell_type": "code",
   "execution_count": 17,
   "id": "95a85f1d-0dfc-4a8f-aa0c-9ef6d5aeef4a",
   "metadata": {},
   "outputs": [
    {
     "data": {
      "text/plain": [
       "(Index(['Unnamed: 0', 'VendorID', 'pickup_datetime', 'passenger_count',\n",
       "        'trip_distance', 'RatecodeID', 'PULocationID', 'payment_type',\n",
       "        'fare_amount', 'extra', 'mta_tax', 'tip_amount', 'tolls_amount',\n",
       "        'total_amount', 'congestion_surcharge', 'month', 'year',\n",
       "        'pickup_day_of_week', 'dropoff_day_of_week', 'pickup_hour',\n",
       "        'dropoff_hour', 'pickup_timeofday', 'dropoff_timeofday',\n",
       "        'pickup_borough', 'dropoff_borough', 'zone'],\n",
       "       dtype='object'),\n",
       " Index(['Unnamed: 0', 'VendorID', 'pickup_datetime', 'passenger_count',\n",
       "        'trip_distance', 'RatecodeID', 'PULocationID', 'payment_type',\n",
       "        'fare_amount', 'extra', 'mta_tax', 'tip_amount', 'tolls_amount',\n",
       "        'total_amount', 'congestion_surcharge', 'month', 'year',\n",
       "        'pickup_day_of_week', 'dropoff_day_of_week', 'pickup_hour',\n",
       "        'dropoff_hour', 'pickup_timeofday', 'dropoff_timeofday',\n",
       "        'pickup_borough', 'dropoff_borough', 'zone'],\n",
       "       dtype='object'))"
      ]
     },
     "execution_count": 17,
     "metadata": {},
     "output_type": "execute_result"
    }
   ],
   "source": [
    "taxi_manhattan.columns, taxi_manhattan.columns"
   ]
  },
  {
   "cell_type": "code",
   "execution_count": 35,
   "id": "56825eea-b469-404f-90e4-26e9c0d9c481",
   "metadata": {},
   "outputs": [],
   "source": [
    "taxi_manhattan = taxi_manhattan.drop(columns=['dropoff_datetime', 'store_and_fwd_flag', 'DOLocationID', 'improvement_surcharge'])"
   ]
  },
  {
   "cell_type": "code",
   "execution_count": 23,
   "id": "386c7cf5-946b-4126-bc35-ecfcb75686ac",
   "metadata": {},
   "outputs": [],
   "source": [
    "columnsTitles = ['pickup_datetime', 'VendorID', 'dropoff_datetime', 'passenger_count',\n",
    "       'trip_distance', 'RatecodeID', 'store_and_fwd_flag', 'PULocationID',\n",
    "       'DOLocationID', 'payment_type', 'fare_amount', 'extra', 'mta_tax',\n",
    "       'tip_amount', 'tolls_amount', 'improvement_surcharge', 'total_amount',\n",
    "       'congestion_surcharge', 'month', 'year', 'pickup_day_of_week',\n",
    "       'dropoff_day_of_week', 'pickup_hour', 'dropoff_hour',\n",
    "       'pickup_timeofday', 'pickup_borough', 'dropoff_borough', 'zone']"
   ]
  },
  {
   "cell_type": "code",
   "execution_count": 21,
   "id": "82bcae5e-1def-4c43-9413-6b44a138a87d",
   "metadata": {},
   "outputs": [
    {
     "data": {
      "text/plain": [
       "(21474917, 26)"
      ]
     },
     "execution_count": 21,
     "metadata": {},
     "output_type": "execute_result"
    }
   ],
   "source": [
    "taxi_manhattan.shape"
   ]
  },
  {
   "cell_type": "code",
   "execution_count": 27,
   "id": "de8e95e6-da4f-40ae-ab84-3ed3aadd89e5",
   "metadata": {},
   "outputs": [],
   "source": [
    "taxi_manhattan = taxi_manhattan.reindex(columns=columnsTitles)"
   ]
  },
  {
   "cell_type": "code",
   "execution_count": 31,
   "id": "b61ab26f-5057-4f43-8287-25b11ed70d32",
   "metadata": {},
   "outputs": [],
   "source": [
    "# manhattan_2019= manhattan_2019.drop(columns=['dropoff_datetime', 'store_and_fwd_flag', 'DOLocationID', 'improvement_surcharge'])"
   ]
  },
  {
   "cell_type": "code",
   "execution_count": 34,
   "id": "3076de6c-fdd3-48b2-87bf-5877ac0bca84",
   "metadata": {},
   "outputs": [
    {
     "data": {
      "text/plain": [
       "Index(['pickup_datetime', 'VendorID', 'passenger_count', 'trip_distance',\n",
       "       'RatecodeID', 'PULocationID', 'payment_type', 'fare_amount', 'extra',\n",
       "       'mta_tax', 'tip_amount', 'tolls_amount', 'total_amount',\n",
       "       'congestion_surcharge', 'month', 'year', 'pickup_day_of_week',\n",
       "       'dropoff_day_of_week', 'pickup_hour', 'dropoff_hour',\n",
       "       'pickup_timeofday', 'pickup_borough', 'dropoff_borough', 'zone'],\n",
       "      dtype='object')"
      ]
     },
     "execution_count": 34,
     "metadata": {},
     "output_type": "execute_result"
    }
   ],
   "source": [
    "manhattan_2019.columns"
   ]
  },
  {
   "cell_type": "code",
   "execution_count": 18,
   "id": "c0c24859-7887-46b6-9b0f-7538a1110b9b",
   "metadata": {},
   "outputs": [],
   "source": [
    "manhattan_full = pd.concat([taxi_manhattan,manhattan_2019])"
   ]
  },
  {
   "cell_type": "code",
   "execution_count": 20,
   "id": "d7b48484-8fa9-4ef6-bc1b-b99aad58d509",
   "metadata": {},
   "outputs": [],
   "source": [
    "manhattan_full.to_csv('./data/manhattan_full.csv')"
   ]
  },
  {
   "cell_type": "code",
   "execution_count": 19,
   "id": "52903cad-feac-40ae-8648-facf24bdb985",
   "metadata": {},
   "outputs": [
    {
     "data": {
      "text/plain": [
       "(81259869, 30)"
      ]
     },
     "execution_count": 19,
     "metadata": {},
     "output_type": "execute_result"
    }
   ],
   "source": [
    "manhattan_full.shape"
   ]
  },
  {
   "cell_type": "code",
   "execution_count": 48,
   "id": "d27fd2b4-d01b-4a36-ab1c-348ec18b31a7",
   "metadata": {},
   "outputs": [],
   "source": [
    "# manhattan_full.head()"
   ]
  },
  {
   "cell_type": "code",
   "execution_count": 41,
   "id": "4f90abf1-9675-497a-839e-09c41e59a325",
   "metadata": {},
   "outputs": [],
   "source": [
    "queens_2019= pd.read_csv('./data/taxi_queens.csv')\n"
   ]
  },
  {
   "cell_type": "code",
   "execution_count": 43,
   "id": "5072878d-37e6-43f0-9828-f7179cb838e9",
   "metadata": {},
   "outputs": [
    {
     "data": {
      "text/plain": [
       "(28, 25)"
      ]
     },
     "execution_count": 43,
     "metadata": {},
     "output_type": "execute_result"
    }
   ],
   "source": [
    "len(queens_2019.columns), len(taxi_queens.columns)"
   ]
  },
  {
   "cell_type": "code",
   "execution_count": 44,
   "id": "0d226713-d656-4cf9-8db0-bbb82366b653",
   "metadata": {},
   "outputs": [],
   "source": [
    "queens_2019 =  queens_2019.drop(columns=['dropoff_datetime', 'store_and_fwd_flag', 'DOLocationID', 'improvement_surcharge'])"
   ]
  },
  {
   "cell_type": "code",
   "execution_count": 46,
   "id": "bf4ddb36-1148-455d-a80a-6449aba5d1cd",
   "metadata": {},
   "outputs": [],
   "source": [
    "taxi_queens = taxi_queens.reindex(columns=columnsTitles)"
   ]
  },
  {
   "cell_type": "code",
   "execution_count": 49,
   "id": "1c8aeadf-fcce-4f4b-83a8-b44df054311c",
   "metadata": {},
   "outputs": [],
   "source": [
    "queens_full = pd.concat([taxi_queens, queens_2019])"
   ]
  },
  {
   "cell_type": "code",
   "execution_count": 50,
   "id": "bfbcff28-f9f7-40c4-81c8-efb74fd9863f",
   "metadata": {},
   "outputs": [],
   "source": [
    "queens_full.to_csv('./data/queens_full.csv')"
   ]
  },
  {
   "cell_type": "code",
   "execution_count": 51,
   "id": "e10570c0-2aaf-40b6-97b7-a0ab7919221f",
   "metadata": {},
   "outputs": [],
   "source": [
    "brooklyn_2019= pd.read_csv('./data/taxi_brooklyn.csv')\n"
   ]
  },
  {
   "cell_type": "code",
   "execution_count": 52,
   "id": "0c143995-94f0-4706-981d-8ec12043868e",
   "metadata": {},
   "outputs": [],
   "source": [
    "brooklyn_2019 = brooklyn_2019.drop(columns=['dropoff_datetime', 'store_and_fwd_flag', 'DOLocationID', 'improvement_surcharge'])"
   ]
  },
  {
   "cell_type": "code",
   "execution_count": 53,
   "id": "3ea7df1e-0530-40b3-adb0-846da9637081",
   "metadata": {},
   "outputs": [],
   "source": [
    "taxi_brooklyn = taxi_brooklyn.reindex(columns=columnsTitles)"
   ]
  },
  {
   "cell_type": "code",
   "execution_count": 54,
   "id": "4eaf92ba-afcc-4fb4-a0b6-9d7e4bc998ef",
   "metadata": {},
   "outputs": [],
   "source": [
    "brooklyn_full = pd.concat([taxi_brooklyn, brooklyn_2019])"
   ]
  },
  {
   "cell_type": "code",
   "execution_count": 55,
   "id": "504ca92a-fd96-4d93-b16b-4ec426dd3ba2",
   "metadata": {},
   "outputs": [],
   "source": [
    "brooklyn_full.to_csv('./data/brooklyn_full.csv')"
   ]
  },
  {
   "cell_type": "code",
   "execution_count": 56,
   "id": "93b1f44a-aa13-49ea-89e1-786f59eed276",
   "metadata": {},
   "outputs": [],
   "source": [
    "bronx_2019= pd.read_csv('./data/taxi_bronx.csv')\n"
   ]
  },
  {
   "cell_type": "code",
   "execution_count": 57,
   "id": "83408627-3826-4202-86d2-91ff69f15e41",
   "metadata": {},
   "outputs": [],
   "source": [
    "bronx_2019 = bronx_2019.drop(columns=['dropoff_datetime', 'store_and_fwd_flag', 'DOLocationID', 'improvement_surcharge'])"
   ]
  },
  {
   "cell_type": "code",
   "execution_count": 58,
   "id": "4dcf662a-8012-4908-ae7f-c5d8e7c202e4",
   "metadata": {},
   "outputs": [],
   "source": [
    "taxi_bronx = taxi_bronx.reindex(columns=columnsTitles)"
   ]
  },
  {
   "cell_type": "code",
   "execution_count": 59,
   "id": "4907c3a1-5896-464c-9793-2af41745cbae",
   "metadata": {},
   "outputs": [],
   "source": [
    "bronx_full = pd.concat([taxi_bronx, bronx_2019])"
   ]
  },
  {
   "cell_type": "code",
   "execution_count": 60,
   "id": "2138efec-a7c5-4677-ba7b-c74c607a43b2",
   "metadata": {},
   "outputs": [],
   "source": [
    "bronx_full.to_csv('./data/bronx_full.csv')"
   ]
  },
  {
   "cell_type": "code",
   "execution_count": 61,
   "id": "fbcd40cb-7115-440c-9b74-cddfe7e6bbb4",
   "metadata": {},
   "outputs": [],
   "source": [
    "staten_island_2019= pd.read_csv('./data/taxi_bronx.csv')\n"
   ]
  },
  {
   "cell_type": "code",
   "execution_count": 62,
   "id": "38c7ac30-dd4b-4063-86c5-5e2f431d6dcc",
   "metadata": {},
   "outputs": [],
   "source": [
    "staten_island_2019 = staten_island_2019.drop(columns=['dropoff_datetime', 'store_and_fwd_flag', 'DOLocationID', 'improvement_surcharge'])"
   ]
  },
  {
   "cell_type": "code",
   "execution_count": 63,
   "id": "3d29dbbc-1b30-4adf-99fd-7f1405594801",
   "metadata": {},
   "outputs": [],
   "source": [
    "taxi_staten_island = taxi_staten_island.reindex(columns=columnsTitles)"
   ]
  },
  {
   "cell_type": "code",
   "execution_count": 64,
   "id": "70e56097-1af1-478e-8c26-ab08cb2842ad",
   "metadata": {},
   "outputs": [],
   "source": [
    "staten_island_full = pd.concat([taxi_staten_island, staten_island_2019])"
   ]
  },
  {
   "cell_type": "code",
   "execution_count": 65,
   "id": "be7b174d-fc50-45c7-bf84-2d4944c952a5",
   "metadata": {},
   "outputs": [],
   "source": [
    "staten_island_full.to_csv('./data/staten_island_full.csv')"
   ]
  },
  {
   "cell_type": "code",
   "execution_count": null,
   "id": "fd73bbb1-8825-4f9a-99ee-b732aa8cc35e",
   "metadata": {},
   "outputs": [],
   "source": []
  }
 ],
 "metadata": {
  "kernelspec": {
   "display_name": "Python 3 (ipykernel)",
   "language": "python",
   "name": "python3"
  },
  "language_info": {
   "codemirror_mode": {
    "name": "ipython",
    "version": 3
   },
   "file_extension": ".py",
   "mimetype": "text/x-python",
   "name": "python",
   "nbconvert_exporter": "python",
   "pygments_lexer": "ipython3",
   "version": "3.9.5"
  }
 },
 "nbformat": 4,
 "nbformat_minor": 5
}
