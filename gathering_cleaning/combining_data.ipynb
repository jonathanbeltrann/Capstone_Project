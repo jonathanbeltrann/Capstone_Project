{
 "cells": [
  {
   "cell_type": "markdown",
   "id": "5784fde4-ce5d-4472-8bbb-e6858c0e0cd4",
   "metadata": {},
   "source": [
    "## Combining All Data"
   ]
  },
  {
   "cell_type": "code",
   "execution_count": 1,
   "id": "703e5c18-66d5-4ff7-8d06-3f0df9a87138",
   "metadata": {},
   "outputs": [],
   "source": [
    "import os\n",
    "import numpy as np\n",
    "import pandas as pd"
   ]
  },
  {
   "cell_type": "code",
   "execution_count": 28,
   "id": "e115e7fe-952c-4b48-a553-f34116b72464",
   "metadata": {},
   "outputs": [],
   "source": [
    "## 2018"
   ]
  },
  {
   "cell_type": "code",
   "execution_count": 33,
   "id": "8c703d6d-1127-4c87-8f03-b69a19ecfc6a",
   "metadata": {
    "tags": []
   },
   "outputs": [],
   "source": [
    "## Reading in data\n",
    "\n",
    "taxi_jan = pd.read_csv('./2018_taxi/01_2018_taxi.csv')\n",
    "taxi_feb = pd.read_csv('./2018_taxi/02_2018_taxi.csv')\n",
    "taxi_mar = pd.read_csv('./2018_taxi/03_2018_taxi.csv')\n",
    "taxi_apr = pd.read_csv('./2018_taxi/04_2018_taxi.csv')\n",
    "taxi_may = pd.read_csv('./2018_taxi/05_2018_taxi.csv')\n",
    "taxi_jun = pd.read_csv('./2018_taxi/06_2018_taxi.csv')\n",
    "taxi_jul = pd.read_csv('./2018_taxi/07_2018_taxi.csv')\n",
    "taxi_aug = pd.read_csv('./2018_taxi/08_2018_taxi.csv')\n",
    "taxi_sep = pd.read_csv('./2018_taxi/09_2018_taxi.csv')\n",
    "taxi_oct = pd.read_csv('./2018_taxi/10_2018_taxi.csv')\n",
    "taxi_nov = pd.read_csv('./2018_taxi/11_2018_taxi.csv')\n",
    "taxi_dec = pd.read_csv('./2018_taxi/12_2018_taxi.csv')"
   ]
  },
  {
   "cell_type": "code",
   "execution_count": 38,
   "id": "7192c6d6-b692-4243-a63d-e686add405d0",
   "metadata": {},
   "outputs": [],
   "source": [
    "# Removing Unnamed: 0 column from all months\n",
    "# taxi_jan = taxi_jan.drop(columns='Unnamed: 0')\n",
    "# taxi_feb = taxi_feb.drop(columns='Unnamed: 0')\n",
    "# taxi_mar = taxi_mar.drop(columns='Unnamed: 0')\n",
    "# taxi_apr = taxi_apr.drop(columns='Unnamed: 0')\n",
    "# taxi_may = taxi_may.drop(columns='Unnamed: 0')\n",
    "# taxi_jun = taxi_jun.drop(columns='Unnamed: 0')\n",
    "# taxi_jul = taxi_jul.drop(columns='Unnamed: 0')\n",
    "# taxi_aug = taxi_aug.drop(columns='Unnamed: 0')\n",
    "# taxi_sep = taxi_sep.drop(columns='Unnamed: 0')\n",
    "# taxi_oct = taxi_oct.drop(columns='Unnamed: 0')\n",
    "# taxi_nov = taxi_nov.drop(columns='Unnamed: 0')\n",
    "# taxi_dec = taxi_dec.drop(columns='Unnamed: 0')"
   ]
  },
  {
   "cell_type": "code",
   "execution_count": 39,
   "id": "fcd29c1f-415c-4d79-8723-999e37509a93",
   "metadata": {},
   "outputs": [
    {
     "data": {
      "text/plain": [
       "17"
      ]
     },
     "execution_count": 39,
     "metadata": {},
     "output_type": "execute_result"
    }
   ],
   "source": [
    "len(taxi_jan.columns.intersection(taxi_apr.columns))"
   ]
  },
  {
   "cell_type": "code",
   "execution_count": 40,
   "id": "f3b81b11-a17a-41cd-a5a6-93bfdbaa4d1b",
   "metadata": {},
   "outputs": [],
   "source": [
    "taxi_jan['month'] = 'jan'\n",
    "taxi_feb['month'] = 'feb'\n",
    "taxi_mar['month'] = 'mar'\n",
    "taxi_apr['month'] = 'apr'\n",
    "taxi_may['month'] = 'may'\n",
    "taxi_jun['month'] = 'jun'\n",
    "taxi_jul['month'] = 'jul'\n",
    "taxi_aug['month'] = 'aug'\n",
    "taxi_sep['month'] = 'sep'\n",
    "taxi_oct['month'] = 'oct'\n",
    "taxi_nov['month'] = 'nov'\n",
    "taxi_dec['month'] = 'dec'"
   ]
  },
  {
   "cell_type": "code",
   "execution_count": 41,
   "id": "7a8bdc18-9ea8-4fe2-94de-e0b4b59b5512",
   "metadata": {},
   "outputs": [],
   "source": [
    "##Since all months have the same number of columns, I will concatonate them and form one df\n",
    "\n",
    "taxi_2018 = pd.concat([taxi_jan, taxi_feb, taxi_mar, taxi_apr, taxi_may, taxi_jun, taxi_jul, taxi_aug, taxi_sep, taxi_oct, taxi_nov, taxi_dec])"
   ]
  },
  {
   "cell_type": "code",
   "execution_count": 45,
   "id": "5d8ae9de-3ccb-4647-9a93-d91ba4e494a9",
   "metadata": {},
   "outputs": [
    {
     "data": {
      "text/html": [
       "<div>\n",
       "<style scoped>\n",
       "    .dataframe tbody tr th:only-of-type {\n",
       "        vertical-align: middle;\n",
       "    }\n",
       "\n",
       "    .dataframe tbody tr th {\n",
       "        vertical-align: top;\n",
       "    }\n",
       "\n",
       "    .dataframe thead th {\n",
       "        text-align: right;\n",
       "    }\n",
       "</style>\n",
       "<table border=\"1\" class=\"dataframe\">\n",
       "  <thead>\n",
       "    <tr style=\"text-align: right;\">\n",
       "      <th></th>\n",
       "      <th>VendorID</th>\n",
       "      <th>tpep_pickup_datetime</th>\n",
       "      <th>tpep_dropoff_datetime</th>\n",
       "      <th>passenger_count</th>\n",
       "      <th>trip_distance</th>\n",
       "      <th>RatecodeID</th>\n",
       "      <th>store_and_fwd_flag</th>\n",
       "      <th>PULocationID</th>\n",
       "      <th>DOLocationID</th>\n",
       "      <th>payment_type</th>\n",
       "      <th>fare_amount</th>\n",
       "      <th>extra</th>\n",
       "      <th>mta_tax</th>\n",
       "      <th>tip_amount</th>\n",
       "      <th>tolls_amount</th>\n",
       "      <th>improvement_surcharge</th>\n",
       "      <th>total_amount</th>\n",
       "      <th>month</th>\n",
       "      <th>year</th>\n",
       "    </tr>\n",
       "  </thead>\n",
       "  <tbody>\n",
       "    <tr>\n",
       "      <th>0</th>\n",
       "      <td>1</td>\n",
       "      <td>2018-01-01 00:21:05</td>\n",
       "      <td>2018-01-01 00:24:23</td>\n",
       "      <td>1</td>\n",
       "      <td>0.5</td>\n",
       "      <td>1</td>\n",
       "      <td>N</td>\n",
       "      <td>41</td>\n",
       "      <td>24</td>\n",
       "      <td>2</td>\n",
       "      <td>4.5</td>\n",
       "      <td>0.5</td>\n",
       "      <td>0.5</td>\n",
       "      <td>0.00</td>\n",
       "      <td>0.0</td>\n",
       "      <td>0.3</td>\n",
       "      <td>5.80</td>\n",
       "      <td>jan</td>\n",
       "      <td>2018</td>\n",
       "    </tr>\n",
       "    <tr>\n",
       "      <th>1</th>\n",
       "      <td>1</td>\n",
       "      <td>2018-01-01 00:44:55</td>\n",
       "      <td>2018-01-01 01:03:05</td>\n",
       "      <td>1</td>\n",
       "      <td>2.7</td>\n",
       "      <td>1</td>\n",
       "      <td>N</td>\n",
       "      <td>239</td>\n",
       "      <td>140</td>\n",
       "      <td>2</td>\n",
       "      <td>14.0</td>\n",
       "      <td>0.5</td>\n",
       "      <td>0.5</td>\n",
       "      <td>0.00</td>\n",
       "      <td>0.0</td>\n",
       "      <td>0.3</td>\n",
       "      <td>15.30</td>\n",
       "      <td>jan</td>\n",
       "      <td>2018</td>\n",
       "    </tr>\n",
       "    <tr>\n",
       "      <th>2</th>\n",
       "      <td>1</td>\n",
       "      <td>2018-01-01 00:08:26</td>\n",
       "      <td>2018-01-01 00:14:21</td>\n",
       "      <td>2</td>\n",
       "      <td>0.8</td>\n",
       "      <td>1</td>\n",
       "      <td>N</td>\n",
       "      <td>262</td>\n",
       "      <td>141</td>\n",
       "      <td>1</td>\n",
       "      <td>6.0</td>\n",
       "      <td>0.5</td>\n",
       "      <td>0.5</td>\n",
       "      <td>1.00</td>\n",
       "      <td>0.0</td>\n",
       "      <td>0.3</td>\n",
       "      <td>8.30</td>\n",
       "      <td>jan</td>\n",
       "      <td>2018</td>\n",
       "    </tr>\n",
       "    <tr>\n",
       "      <th>3</th>\n",
       "      <td>1</td>\n",
       "      <td>2018-01-01 00:20:22</td>\n",
       "      <td>2018-01-01 00:52:51</td>\n",
       "      <td>1</td>\n",
       "      <td>10.2</td>\n",
       "      <td>1</td>\n",
       "      <td>N</td>\n",
       "      <td>140</td>\n",
       "      <td>257</td>\n",
       "      <td>2</td>\n",
       "      <td>33.5</td>\n",
       "      <td>0.5</td>\n",
       "      <td>0.5</td>\n",
       "      <td>0.00</td>\n",
       "      <td>0.0</td>\n",
       "      <td>0.3</td>\n",
       "      <td>34.80</td>\n",
       "      <td>jan</td>\n",
       "      <td>2018</td>\n",
       "    </tr>\n",
       "    <tr>\n",
       "      <th>4</th>\n",
       "      <td>1</td>\n",
       "      <td>2018-01-01 00:09:18</td>\n",
       "      <td>2018-01-01 00:27:06</td>\n",
       "      <td>2</td>\n",
       "      <td>2.5</td>\n",
       "      <td>1</td>\n",
       "      <td>N</td>\n",
       "      <td>246</td>\n",
       "      <td>239</td>\n",
       "      <td>1</td>\n",
       "      <td>12.5</td>\n",
       "      <td>0.5</td>\n",
       "      <td>0.5</td>\n",
       "      <td>2.75</td>\n",
       "      <td>0.0</td>\n",
       "      <td>0.3</td>\n",
       "      <td>16.55</td>\n",
       "      <td>jan</td>\n",
       "      <td>2018</td>\n",
       "    </tr>\n",
       "  </tbody>\n",
       "</table>\n",
       "</div>"
      ],
      "text/plain": [
       "   VendorID tpep_pickup_datetime tpep_dropoff_datetime  passenger_count  \\\n",
       "0         1  2018-01-01 00:21:05   2018-01-01 00:24:23                1   \n",
       "1         1  2018-01-01 00:44:55   2018-01-01 01:03:05                1   \n",
       "2         1  2018-01-01 00:08:26   2018-01-01 00:14:21                2   \n",
       "3         1  2018-01-01 00:20:22   2018-01-01 00:52:51                1   \n",
       "4         1  2018-01-01 00:09:18   2018-01-01 00:27:06                2   \n",
       "\n",
       "   trip_distance  RatecodeID store_and_fwd_flag  PULocationID  DOLocationID  \\\n",
       "0            0.5           1                  N            41            24   \n",
       "1            2.7           1                  N           239           140   \n",
       "2            0.8           1                  N           262           141   \n",
       "3           10.2           1                  N           140           257   \n",
       "4            2.5           1                  N           246           239   \n",
       "\n",
       "   payment_type  fare_amount  extra  mta_tax  tip_amount  tolls_amount  \\\n",
       "0             2          4.5    0.5      0.5        0.00           0.0   \n",
       "1             2         14.0    0.5      0.5        0.00           0.0   \n",
       "2             1          6.0    0.5      0.5        1.00           0.0   \n",
       "3             2         33.5    0.5      0.5        0.00           0.0   \n",
       "4             1         12.5    0.5      0.5        2.75           0.0   \n",
       "\n",
       "   improvement_surcharge  total_amount month  year  \n",
       "0                    0.3          5.80   jan  2018  \n",
       "1                    0.3         15.30   jan  2018  \n",
       "2                    0.3          8.30   jan  2018  \n",
       "3                    0.3         34.80   jan  2018  \n",
       "4                    0.3         16.55   jan  2018  "
      ]
     },
     "execution_count": 45,
     "metadata": {},
     "output_type": "execute_result"
    }
   ],
   "source": [
    "#adding year column\n",
    "taxi_2018['year'] = 2018"
   ]
  },
  {
   "cell_type": "code",
   "execution_count": 46,
   "id": "4b19d478-f6ec-4eb6-8259-d318611e5b21",
   "metadata": {},
   "outputs": [],
   "source": [
    "taxi_2018.to_csv('./taxi_2018.csv')"
   ]
  },
  {
   "cell_type": "code",
   "execution_count": 34,
   "id": "43e7acc6-f8d7-4327-b417-393c688026a1",
   "metadata": {},
   "outputs": [],
   "source": [
    "## 2019"
   ]
  },
  {
   "cell_type": "code",
   "execution_count": 4,
   "id": "7916f3e1-8afb-4557-b32d-b61a992581bc",
   "metadata": {},
   "outputs": [
    {
     "name": "stderr",
     "output_type": "stream",
     "text": [
      "/Users/jonathanbeltran/opt/miniconda3/lib/python3.9/site-packages/IPython/core/interactiveshell.py:3444: DtypeWarning: Columns (7) have mixed types.Specify dtype option on import or set low_memory=False.\n",
      "  exec(code_obj, self.user_global_ns, self.user_ns)\n",
      "/Users/jonathanbeltran/opt/miniconda3/lib/python3.9/site-packages/IPython/core/interactiveshell.py:3444: DtypeWarning: Columns (6) have mixed types.Specify dtype option on import or set low_memory=False.\n",
      "  exec(code_obj, self.user_global_ns, self.user_ns)\n"
     ]
    }
   ],
   "source": [
    "## Reading in data\n",
    "\n",
    "taxi_jan = pd.read_csv('./data/2019_taxi/01_2019_taxi.csv')\n",
    "taxi_feb = pd.read_csv('./data/2019_taxi/02_2019_taxi.csv')\n",
    "taxi_mar = pd.read_csv('./data/2019_taxi/03_2019_taxi.csv')\n",
    "taxi_apr = pd.read_csv('./data/2019_taxi/04_2019_taxi.csv')\n",
    "taxi_may = pd.read_csv('./data/2019_taxi/05_2019_taxi.csv')\n",
    "taxi_jun = pd.read_csv('./data/2019_taxi/06_2019_taxi.csv')\n",
    "taxi_jul = pd.read_csv('./data/2019_taxi/07_2019_taxi.csv')\n",
    "taxi_aug = pd.read_csv('./data/2019_taxi/08_2019_taxi.csv')\n",
    "taxi_sep = pd.read_csv('./data/2019_taxi/09_2019_taxi.csv')\n",
    "taxi_oct = pd.read_csv('./data/2019_taxi/10_2019_taxi.csv')\n",
    "taxi_nov = pd.read_csv('./data/2019_taxi/11_2019_taxi.csv')\n",
    "taxi_dec = pd.read_csv('./data/2019_taxi/12_2019_taxi.csv')"
   ]
  },
  {
   "cell_type": "code",
   "execution_count": 5,
   "id": "232525e2-43ca-48b6-8ff7-76eb5286092e",
   "metadata": {},
   "outputs": [
    {
     "data": {
      "text/html": [
       "<div>\n",
       "<style scoped>\n",
       "    .dataframe tbody tr th:only-of-type {\n",
       "        vertical-align: middle;\n",
       "    }\n",
       "\n",
       "    .dataframe tbody tr th {\n",
       "        vertical-align: top;\n",
       "    }\n",
       "\n",
       "    .dataframe thead th {\n",
       "        text-align: right;\n",
       "    }\n",
       "</style>\n",
       "<table border=\"1\" class=\"dataframe\">\n",
       "  <thead>\n",
       "    <tr style=\"text-align: right;\">\n",
       "      <th></th>\n",
       "      <th>Unnamed: 0</th>\n",
       "      <th>VendorID</th>\n",
       "      <th>tpep_pickup_datetime</th>\n",
       "      <th>tpep_dropoff_datetime</th>\n",
       "      <th>passenger_count</th>\n",
       "      <th>trip_distance</th>\n",
       "      <th>RatecodeID</th>\n",
       "      <th>store_and_fwd_flag</th>\n",
       "      <th>PULocationID</th>\n",
       "      <th>DOLocationID</th>\n",
       "      <th>payment_type</th>\n",
       "      <th>fare_amount</th>\n",
       "      <th>extra</th>\n",
       "      <th>mta_tax</th>\n",
       "      <th>tip_amount</th>\n",
       "      <th>tolls_amount</th>\n",
       "      <th>improvement_surcharge</th>\n",
       "      <th>total_amount</th>\n",
       "      <th>congestion_surcharge</th>\n",
       "    </tr>\n",
       "  </thead>\n",
       "  <tbody>\n",
       "    <tr>\n",
       "      <th>0</th>\n",
       "      <td>0</td>\n",
       "      <td>1</td>\n",
       "      <td>2019-04-01 00:04:09</td>\n",
       "      <td>2019-04-01 00:06:35</td>\n",
       "      <td>1</td>\n",
       "      <td>0.5</td>\n",
       "      <td>1</td>\n",
       "      <td>N</td>\n",
       "      <td>239</td>\n",
       "      <td>239</td>\n",
       "      <td>1</td>\n",
       "      <td>4.0</td>\n",
       "      <td>3.0</td>\n",
       "      <td>0.5</td>\n",
       "      <td>1.00</td>\n",
       "      <td>0.0</td>\n",
       "      <td>0.3</td>\n",
       "      <td>8.80</td>\n",
       "      <td>2.5</td>\n",
       "    </tr>\n",
       "    <tr>\n",
       "      <th>1</th>\n",
       "      <td>1</td>\n",
       "      <td>1</td>\n",
       "      <td>2019-04-01 00:22:45</td>\n",
       "      <td>2019-04-01 00:25:43</td>\n",
       "      <td>1</td>\n",
       "      <td>0.7</td>\n",
       "      <td>1</td>\n",
       "      <td>N</td>\n",
       "      <td>230</td>\n",
       "      <td>100</td>\n",
       "      <td>2</td>\n",
       "      <td>4.5</td>\n",
       "      <td>3.0</td>\n",
       "      <td>0.5</td>\n",
       "      <td>0.00</td>\n",
       "      <td>0.0</td>\n",
       "      <td>0.3</td>\n",
       "      <td>8.30</td>\n",
       "      <td>2.5</td>\n",
       "    </tr>\n",
       "    <tr>\n",
       "      <th>2</th>\n",
       "      <td>2</td>\n",
       "      <td>1</td>\n",
       "      <td>2019-04-01 00:39:48</td>\n",
       "      <td>2019-04-01 01:19:39</td>\n",
       "      <td>1</td>\n",
       "      <td>10.9</td>\n",
       "      <td>1</td>\n",
       "      <td>N</td>\n",
       "      <td>68</td>\n",
       "      <td>127</td>\n",
       "      <td>1</td>\n",
       "      <td>36.0</td>\n",
       "      <td>3.0</td>\n",
       "      <td>0.5</td>\n",
       "      <td>7.95</td>\n",
       "      <td>0.0</td>\n",
       "      <td>0.3</td>\n",
       "      <td>47.75</td>\n",
       "      <td>2.5</td>\n",
       "    </tr>\n",
       "    <tr>\n",
       "      <th>3</th>\n",
       "      <td>3</td>\n",
       "      <td>1</td>\n",
       "      <td>2019-04-01 00:35:32</td>\n",
       "      <td>2019-04-01 00:37:11</td>\n",
       "      <td>1</td>\n",
       "      <td>0.2</td>\n",
       "      <td>1</td>\n",
       "      <td>N</td>\n",
       "      <td>68</td>\n",
       "      <td>68</td>\n",
       "      <td>2</td>\n",
       "      <td>3.5</td>\n",
       "      <td>3.0</td>\n",
       "      <td>0.5</td>\n",
       "      <td>0.00</td>\n",
       "      <td>0.0</td>\n",
       "      <td>0.3</td>\n",
       "      <td>7.30</td>\n",
       "      <td>2.5</td>\n",
       "    </tr>\n",
       "    <tr>\n",
       "      <th>4</th>\n",
       "      <td>4</td>\n",
       "      <td>1</td>\n",
       "      <td>2019-04-01 00:44:05</td>\n",
       "      <td>2019-04-01 00:57:58</td>\n",
       "      <td>1</td>\n",
       "      <td>4.8</td>\n",
       "      <td>1</td>\n",
       "      <td>N</td>\n",
       "      <td>50</td>\n",
       "      <td>42</td>\n",
       "      <td>1</td>\n",
       "      <td>15.5</td>\n",
       "      <td>3.0</td>\n",
       "      <td>0.5</td>\n",
       "      <td>3.85</td>\n",
       "      <td>0.0</td>\n",
       "      <td>0.3</td>\n",
       "      <td>23.15</td>\n",
       "      <td>2.5</td>\n",
       "    </tr>\n",
       "  </tbody>\n",
       "</table>\n",
       "</div>"
      ],
      "text/plain": [
       "   Unnamed: 0  VendorID tpep_pickup_datetime tpep_dropoff_datetime  \\\n",
       "0           0         1  2019-04-01 00:04:09   2019-04-01 00:06:35   \n",
       "1           1         1  2019-04-01 00:22:45   2019-04-01 00:25:43   \n",
       "2           2         1  2019-04-01 00:39:48   2019-04-01 01:19:39   \n",
       "3           3         1  2019-04-01 00:35:32   2019-04-01 00:37:11   \n",
       "4           4         1  2019-04-01 00:44:05   2019-04-01 00:57:58   \n",
       "\n",
       "   passenger_count  trip_distance  RatecodeID store_and_fwd_flag  \\\n",
       "0                1            0.5           1                  N   \n",
       "1                1            0.7           1                  N   \n",
       "2                1           10.9           1                  N   \n",
       "3                1            0.2           1                  N   \n",
       "4                1            4.8           1                  N   \n",
       "\n",
       "   PULocationID  DOLocationID  payment_type  fare_amount  extra  mta_tax  \\\n",
       "0           239           239             1          4.0    3.0      0.5   \n",
       "1           230           100             2          4.5    3.0      0.5   \n",
       "2            68           127             1         36.0    3.0      0.5   \n",
       "3            68            68             2          3.5    3.0      0.5   \n",
       "4            50            42             1         15.5    3.0      0.5   \n",
       "\n",
       "   tip_amount  tolls_amount  improvement_surcharge  total_amount  \\\n",
       "0        1.00           0.0                    0.3          8.80   \n",
       "1        0.00           0.0                    0.3          8.30   \n",
       "2        7.95           0.0                    0.3         47.75   \n",
       "3        0.00           0.0                    0.3          7.30   \n",
       "4        3.85           0.0                    0.3         23.15   \n",
       "\n",
       "   congestion_surcharge  \n",
       "0                   2.5  \n",
       "1                   2.5  \n",
       "2                   2.5  \n",
       "3                   2.5  \n",
       "4                   2.5  "
      ]
     },
     "execution_count": 5,
     "metadata": {},
     "output_type": "execute_result"
    }
   ],
   "source": [
    "taxi_apr.head()"
   ]
  },
  {
   "cell_type": "code",
   "execution_count": 6,
   "id": "1a1a550f-ada4-495a-a1c2-08d283840dad",
   "metadata": {},
   "outputs": [
    {
     "ename": "KeyError",
     "evalue": "\"['Unnamed: 0'] not found in axis\"",
     "output_type": "error",
     "traceback": [
      "\u001b[0;31m---------------------------------------------------------------------------\u001b[0m",
      "\u001b[0;31mKeyError\u001b[0m                                  Traceback (most recent call last)",
      "\u001b[0;32m/var/folders/85/gfsz06392cx1589spz1jvvtc0000gn/T/ipykernel_4937/2142234489.py\u001b[0m in \u001b[0;36m<module>\u001b[0;34m\u001b[0m\n\u001b[1;32m     11\u001b[0m \u001b[0mtaxi_oct\u001b[0m \u001b[0;34m=\u001b[0m \u001b[0mtaxi_oct\u001b[0m\u001b[0;34m.\u001b[0m\u001b[0mdrop\u001b[0m\u001b[0;34m(\u001b[0m\u001b[0mcolumns\u001b[0m\u001b[0;34m=\u001b[0m\u001b[0;34m'Unnamed: 0'\u001b[0m\u001b[0;34m)\u001b[0m\u001b[0;34m\u001b[0m\u001b[0;34m\u001b[0m\u001b[0m\n\u001b[1;32m     12\u001b[0m \u001b[0mtaxi_nov\u001b[0m \u001b[0;34m=\u001b[0m \u001b[0mtaxi_nov\u001b[0m\u001b[0;34m.\u001b[0m\u001b[0mdrop\u001b[0m\u001b[0;34m(\u001b[0m\u001b[0mcolumns\u001b[0m\u001b[0;34m=\u001b[0m\u001b[0;34m'Unnamed: 0'\u001b[0m\u001b[0;34m)\u001b[0m\u001b[0;34m\u001b[0m\u001b[0;34m\u001b[0m\u001b[0m\n\u001b[0;32m---> 13\u001b[0;31m \u001b[0mtaxi_dec\u001b[0m \u001b[0;34m=\u001b[0m \u001b[0mtaxi_dec\u001b[0m\u001b[0;34m.\u001b[0m\u001b[0mdrop\u001b[0m\u001b[0;34m(\u001b[0m\u001b[0mcolumns\u001b[0m\u001b[0;34m=\u001b[0m\u001b[0;34m'Unnamed: 0'\u001b[0m\u001b[0;34m)\u001b[0m\u001b[0;34m\u001b[0m\u001b[0;34m\u001b[0m\u001b[0m\n\u001b[0m",
      "\u001b[0;32m~/opt/miniconda3/lib/python3.9/site-packages/pandas/util/_decorators.py\u001b[0m in \u001b[0;36mwrapper\u001b[0;34m(*args, **kwargs)\u001b[0m\n\u001b[1;32m    309\u001b[0m                     \u001b[0mstacklevel\u001b[0m\u001b[0;34m=\u001b[0m\u001b[0mstacklevel\u001b[0m\u001b[0;34m,\u001b[0m\u001b[0;34m\u001b[0m\u001b[0;34m\u001b[0m\u001b[0m\n\u001b[1;32m    310\u001b[0m                 )\n\u001b[0;32m--> 311\u001b[0;31m             \u001b[0;32mreturn\u001b[0m \u001b[0mfunc\u001b[0m\u001b[0;34m(\u001b[0m\u001b[0;34m*\u001b[0m\u001b[0margs\u001b[0m\u001b[0;34m,\u001b[0m \u001b[0;34m**\u001b[0m\u001b[0mkwargs\u001b[0m\u001b[0;34m)\u001b[0m\u001b[0;34m\u001b[0m\u001b[0;34m\u001b[0m\u001b[0m\n\u001b[0m\u001b[1;32m    312\u001b[0m \u001b[0;34m\u001b[0m\u001b[0m\n\u001b[1;32m    313\u001b[0m         \u001b[0;32mreturn\u001b[0m \u001b[0mwrapper\u001b[0m\u001b[0;34m\u001b[0m\u001b[0;34m\u001b[0m\u001b[0m\n",
      "\u001b[0;32m~/opt/miniconda3/lib/python3.9/site-packages/pandas/core/frame.py\u001b[0m in \u001b[0;36mdrop\u001b[0;34m(self, labels, axis, index, columns, level, inplace, errors)\u001b[0m\n\u001b[1;32m   4904\u001b[0m                 \u001b[0mweight\u001b[0m  \u001b[0;36m1.0\u001b[0m     \u001b[0;36m0.8\u001b[0m\u001b[0;34m\u001b[0m\u001b[0;34m\u001b[0m\u001b[0m\n\u001b[1;32m   4905\u001b[0m         \"\"\"\n\u001b[0;32m-> 4906\u001b[0;31m         return super().drop(\n\u001b[0m\u001b[1;32m   4907\u001b[0m             \u001b[0mlabels\u001b[0m\u001b[0;34m=\u001b[0m\u001b[0mlabels\u001b[0m\u001b[0;34m,\u001b[0m\u001b[0;34m\u001b[0m\u001b[0;34m\u001b[0m\u001b[0m\n\u001b[1;32m   4908\u001b[0m             \u001b[0maxis\u001b[0m\u001b[0;34m=\u001b[0m\u001b[0maxis\u001b[0m\u001b[0;34m,\u001b[0m\u001b[0;34m\u001b[0m\u001b[0;34m\u001b[0m\u001b[0m\n",
      "\u001b[0;32m~/opt/miniconda3/lib/python3.9/site-packages/pandas/core/generic.py\u001b[0m in \u001b[0;36mdrop\u001b[0;34m(self, labels, axis, index, columns, level, inplace, errors)\u001b[0m\n\u001b[1;32m   4148\u001b[0m         \u001b[0;32mfor\u001b[0m \u001b[0maxis\u001b[0m\u001b[0;34m,\u001b[0m \u001b[0mlabels\u001b[0m \u001b[0;32min\u001b[0m \u001b[0maxes\u001b[0m\u001b[0;34m.\u001b[0m\u001b[0mitems\u001b[0m\u001b[0;34m(\u001b[0m\u001b[0;34m)\u001b[0m\u001b[0;34m:\u001b[0m\u001b[0;34m\u001b[0m\u001b[0;34m\u001b[0m\u001b[0m\n\u001b[1;32m   4149\u001b[0m             \u001b[0;32mif\u001b[0m \u001b[0mlabels\u001b[0m \u001b[0;32mis\u001b[0m \u001b[0;32mnot\u001b[0m \u001b[0;32mNone\u001b[0m\u001b[0;34m:\u001b[0m\u001b[0;34m\u001b[0m\u001b[0;34m\u001b[0m\u001b[0m\n\u001b[0;32m-> 4150\u001b[0;31m                 \u001b[0mobj\u001b[0m \u001b[0;34m=\u001b[0m \u001b[0mobj\u001b[0m\u001b[0;34m.\u001b[0m\u001b[0m_drop_axis\u001b[0m\u001b[0;34m(\u001b[0m\u001b[0mlabels\u001b[0m\u001b[0;34m,\u001b[0m \u001b[0maxis\u001b[0m\u001b[0;34m,\u001b[0m \u001b[0mlevel\u001b[0m\u001b[0;34m=\u001b[0m\u001b[0mlevel\u001b[0m\u001b[0;34m,\u001b[0m \u001b[0merrors\u001b[0m\u001b[0;34m=\u001b[0m\u001b[0merrors\u001b[0m\u001b[0;34m)\u001b[0m\u001b[0;34m\u001b[0m\u001b[0;34m\u001b[0m\u001b[0m\n\u001b[0m\u001b[1;32m   4151\u001b[0m \u001b[0;34m\u001b[0m\u001b[0m\n\u001b[1;32m   4152\u001b[0m         \u001b[0;32mif\u001b[0m \u001b[0minplace\u001b[0m\u001b[0;34m:\u001b[0m\u001b[0;34m\u001b[0m\u001b[0;34m\u001b[0m\u001b[0m\n",
      "\u001b[0;32m~/opt/miniconda3/lib/python3.9/site-packages/pandas/core/generic.py\u001b[0m in \u001b[0;36m_drop_axis\u001b[0;34m(self, labels, axis, level, errors)\u001b[0m\n\u001b[1;32m   4183\u001b[0m                 \u001b[0mnew_axis\u001b[0m \u001b[0;34m=\u001b[0m \u001b[0maxis\u001b[0m\u001b[0;34m.\u001b[0m\u001b[0mdrop\u001b[0m\u001b[0;34m(\u001b[0m\u001b[0mlabels\u001b[0m\u001b[0;34m,\u001b[0m \u001b[0mlevel\u001b[0m\u001b[0;34m=\u001b[0m\u001b[0mlevel\u001b[0m\u001b[0;34m,\u001b[0m \u001b[0merrors\u001b[0m\u001b[0;34m=\u001b[0m\u001b[0merrors\u001b[0m\u001b[0;34m)\u001b[0m\u001b[0;34m\u001b[0m\u001b[0;34m\u001b[0m\u001b[0m\n\u001b[1;32m   4184\u001b[0m             \u001b[0;32melse\u001b[0m\u001b[0;34m:\u001b[0m\u001b[0;34m\u001b[0m\u001b[0;34m\u001b[0m\u001b[0m\n\u001b[0;32m-> 4185\u001b[0;31m                 \u001b[0mnew_axis\u001b[0m \u001b[0;34m=\u001b[0m \u001b[0maxis\u001b[0m\u001b[0;34m.\u001b[0m\u001b[0mdrop\u001b[0m\u001b[0;34m(\u001b[0m\u001b[0mlabels\u001b[0m\u001b[0;34m,\u001b[0m \u001b[0merrors\u001b[0m\u001b[0;34m=\u001b[0m\u001b[0merrors\u001b[0m\u001b[0;34m)\u001b[0m\u001b[0;34m\u001b[0m\u001b[0;34m\u001b[0m\u001b[0m\n\u001b[0m\u001b[1;32m   4186\u001b[0m             \u001b[0mresult\u001b[0m \u001b[0;34m=\u001b[0m \u001b[0mself\u001b[0m\u001b[0;34m.\u001b[0m\u001b[0mreindex\u001b[0m\u001b[0;34m(\u001b[0m\u001b[0;34m**\u001b[0m\u001b[0;34m{\u001b[0m\u001b[0maxis_name\u001b[0m\u001b[0;34m:\u001b[0m \u001b[0mnew_axis\u001b[0m\u001b[0;34m}\u001b[0m\u001b[0;34m)\u001b[0m\u001b[0;34m\u001b[0m\u001b[0;34m\u001b[0m\u001b[0m\n\u001b[1;32m   4187\u001b[0m \u001b[0;34m\u001b[0m\u001b[0m\n",
      "\u001b[0;32m~/opt/miniconda3/lib/python3.9/site-packages/pandas/core/indexes/base.py\u001b[0m in \u001b[0;36mdrop\u001b[0;34m(self, labels, errors)\u001b[0m\n\u001b[1;32m   6015\u001b[0m         \u001b[0;32mif\u001b[0m \u001b[0mmask\u001b[0m\u001b[0;34m.\u001b[0m\u001b[0many\u001b[0m\u001b[0;34m(\u001b[0m\u001b[0;34m)\u001b[0m\u001b[0;34m:\u001b[0m\u001b[0;34m\u001b[0m\u001b[0;34m\u001b[0m\u001b[0m\n\u001b[1;32m   6016\u001b[0m             \u001b[0;32mif\u001b[0m \u001b[0merrors\u001b[0m \u001b[0;34m!=\u001b[0m \u001b[0;34m\"ignore\"\u001b[0m\u001b[0;34m:\u001b[0m\u001b[0;34m\u001b[0m\u001b[0;34m\u001b[0m\u001b[0m\n\u001b[0;32m-> 6017\u001b[0;31m                 \u001b[0;32mraise\u001b[0m \u001b[0mKeyError\u001b[0m\u001b[0;34m(\u001b[0m\u001b[0;34mf\"{labels[mask]} not found in axis\"\u001b[0m\u001b[0;34m)\u001b[0m\u001b[0;34m\u001b[0m\u001b[0;34m\u001b[0m\u001b[0m\n\u001b[0m\u001b[1;32m   6018\u001b[0m             \u001b[0mindexer\u001b[0m \u001b[0;34m=\u001b[0m \u001b[0mindexer\u001b[0m\u001b[0;34m[\u001b[0m\u001b[0;34m~\u001b[0m\u001b[0mmask\u001b[0m\u001b[0;34m]\u001b[0m\u001b[0;34m\u001b[0m\u001b[0;34m\u001b[0m\u001b[0m\n\u001b[1;32m   6019\u001b[0m         \u001b[0;32mreturn\u001b[0m \u001b[0mself\u001b[0m\u001b[0;34m.\u001b[0m\u001b[0mdelete\u001b[0m\u001b[0;34m(\u001b[0m\u001b[0mindexer\u001b[0m\u001b[0;34m)\u001b[0m\u001b[0;34m\u001b[0m\u001b[0;34m\u001b[0m\u001b[0m\n",
      "\u001b[0;31mKeyError\u001b[0m: \"['Unnamed: 0'] not found in axis\""
     ]
    }
   ],
   "source": [
    "# # Removing Unnamed: 0 column from all months\n",
    "# taxi_jan = taxi_jan.drop(columns='Unnamed: 0')\n",
    "# taxi_feb = taxi_feb.drop(columns='Unnamed: 0')\n",
    "# taxi_mar = taxi_mar.drop(columns='Unnamed: 0')\n",
    "# taxi_apr = taxi_apr.drop(columns='Unnamed: 0')\n",
    "# taxi_may = taxi_may.drop(columns='Unnamed: 0')\n",
    "# taxi_jun = taxi_jun.drop(columns='Unnamed: 0')\n",
    "# taxi_jul = taxi_jul.drop(columns='Unnamed: 0')\n",
    "# taxi_aug = taxi_aug.drop(columns='Unnamed: 0')\n",
    "# taxi_sep = taxi_sep.drop(columns='Unnamed: 0')\n",
    "# taxi_oct = taxi_oct.drop(columns='Unnamed: 0')\n",
    "# taxi_nov = taxi_nov.drop(columns='Unnamed: 0')\n",
    "# taxi_dec = taxi_dec.drop(columns='Unnamed: 0')"
   ]
  },
  {
   "cell_type": "code",
   "execution_count": 7,
   "id": "77ca5843-1dc0-4956-8d4d-0c566de08a4d",
   "metadata": {},
   "outputs": [],
   "source": [
    "taxi_jan['month'] = 'jan'\n",
    "taxi_feb['month'] = 'feb'\n",
    "taxi_mar['month'] = 'mar'\n",
    "taxi_apr['month'] = 'apr'\n",
    "taxi_may['month'] = 'may'\n",
    "taxi_jun['month'] = 'jun'\n",
    "taxi_jul['month'] = 'jul'\n",
    "taxi_aug['month'] = 'aug'\n",
    "taxi_sep['month'] = 'sep'\n",
    "taxi_oct['month'] = 'oct'\n",
    "taxi_nov['month'] = 'nov'\n",
    "taxi_dec['month'] = 'dec'"
   ]
  },
  {
   "cell_type": "code",
   "execution_count": 8,
   "id": "ccb8ea15-7303-4103-91ff-570c259e67c5",
   "metadata": {},
   "outputs": [],
   "source": [
    "##Since all months have the same number of columns, I will concatonate them and form one df\n",
    "\n",
    "taxi_2019 = pd.concat([taxi_jan, taxi_feb, taxi_mar, taxi_apr, taxi_may, taxi_jun, taxi_jul, taxi_aug, taxi_sep, taxi_oct, taxi_nov, taxi_dec])"
   ]
  },
  {
   "cell_type": "code",
   "execution_count": 9,
   "id": "06ce5e62-ed37-4b1f-ab4c-598490c632c6",
   "metadata": {},
   "outputs": [],
   "source": [
    "taxi_2019['year'] = 2019"
   ]
  },
  {
   "cell_type": "code",
   "execution_count": 10,
   "id": "a8be84a5-ad31-43d9-b9d6-dfb6625e9406",
   "metadata": {},
   "outputs": [
    {
     "data": {
      "text/html": [
       "<div>\n",
       "<style scoped>\n",
       "    .dataframe tbody tr th:only-of-type {\n",
       "        vertical-align: middle;\n",
       "    }\n",
       "\n",
       "    .dataframe tbody tr th {\n",
       "        vertical-align: top;\n",
       "    }\n",
       "\n",
       "    .dataframe thead th {\n",
       "        text-align: right;\n",
       "    }\n",
       "</style>\n",
       "<table border=\"1\" class=\"dataframe\">\n",
       "  <thead>\n",
       "    <tr style=\"text-align: right;\">\n",
       "      <th></th>\n",
       "      <th>VendorID</th>\n",
       "      <th>tpep_pickup_datetime</th>\n",
       "      <th>tpep_dropoff_datetime</th>\n",
       "      <th>passenger_count</th>\n",
       "      <th>trip_distance</th>\n",
       "      <th>RatecodeID</th>\n",
       "      <th>store_and_fwd_flag</th>\n",
       "      <th>PULocationID</th>\n",
       "      <th>DOLocationID</th>\n",
       "      <th>payment_type</th>\n",
       "      <th>fare_amount</th>\n",
       "      <th>extra</th>\n",
       "      <th>mta_tax</th>\n",
       "      <th>tip_amount</th>\n",
       "      <th>tolls_amount</th>\n",
       "      <th>improvement_surcharge</th>\n",
       "      <th>total_amount</th>\n",
       "      <th>congestion_surcharge</th>\n",
       "      <th>month</th>\n",
       "      <th>year</th>\n",
       "    </tr>\n",
       "  </thead>\n",
       "  <tbody>\n",
       "    <tr>\n",
       "      <th>0</th>\n",
       "      <td>1.0</td>\n",
       "      <td>2019-01-01 00:46:40</td>\n",
       "      <td>2019-01-01 00:53:20</td>\n",
       "      <td>1.0</td>\n",
       "      <td>1.5</td>\n",
       "      <td>1.0</td>\n",
       "      <td>N</td>\n",
       "      <td>151</td>\n",
       "      <td>239</td>\n",
       "      <td>1.0</td>\n",
       "      <td>7.0</td>\n",
       "      <td>0.5</td>\n",
       "      <td>0.5</td>\n",
       "      <td>1.65</td>\n",
       "      <td>0.0</td>\n",
       "      <td>0.3</td>\n",
       "      <td>9.95</td>\n",
       "      <td>NaN</td>\n",
       "      <td>jan</td>\n",
       "      <td>2019</td>\n",
       "    </tr>\n",
       "    <tr>\n",
       "      <th>1</th>\n",
       "      <td>1.0</td>\n",
       "      <td>2019-01-01 00:59:47</td>\n",
       "      <td>2019-01-01 01:18:59</td>\n",
       "      <td>1.0</td>\n",
       "      <td>2.6</td>\n",
       "      <td>1.0</td>\n",
       "      <td>N</td>\n",
       "      <td>239</td>\n",
       "      <td>246</td>\n",
       "      <td>1.0</td>\n",
       "      <td>14.0</td>\n",
       "      <td>0.5</td>\n",
       "      <td>0.5</td>\n",
       "      <td>1.00</td>\n",
       "      <td>0.0</td>\n",
       "      <td>0.3</td>\n",
       "      <td>16.30</td>\n",
       "      <td>NaN</td>\n",
       "      <td>jan</td>\n",
       "      <td>2019</td>\n",
       "    </tr>\n",
       "  </tbody>\n",
       "</table>\n",
       "</div>"
      ],
      "text/plain": [
       "   VendorID tpep_pickup_datetime tpep_dropoff_datetime  passenger_count  \\\n",
       "0       1.0  2019-01-01 00:46:40   2019-01-01 00:53:20              1.0   \n",
       "1       1.0  2019-01-01 00:59:47   2019-01-01 01:18:59              1.0   \n",
       "\n",
       "   trip_distance  RatecodeID store_and_fwd_flag  PULocationID  DOLocationID  \\\n",
       "0            1.5         1.0                  N           151           239   \n",
       "1            2.6         1.0                  N           239           246   \n",
       "\n",
       "   payment_type  fare_amount  extra  mta_tax  tip_amount  tolls_amount  \\\n",
       "0           1.0          7.0    0.5      0.5        1.65           0.0   \n",
       "1           1.0         14.0    0.5      0.5        1.00           0.0   \n",
       "\n",
       "   improvement_surcharge  total_amount  congestion_surcharge month  year  \n",
       "0                    0.3          9.95                   NaN   jan  2019  \n",
       "1                    0.3         16.30                   NaN   jan  2019  "
      ]
     },
     "execution_count": 10,
     "metadata": {},
     "output_type": "execute_result"
    }
   ],
   "source": [
    "taxi_2019.head(2)"
   ]
  },
  {
   "cell_type": "code",
   "execution_count": 11,
   "id": "7238ded0-d398-40fe-8478-d108d9ac91b2",
   "metadata": {},
   "outputs": [
    {
     "data": {
      "text/plain": [
       "mar    7832545\n",
       "jan    7667792\n",
       "may    7565261\n",
       "apr    7433139\n",
       "oct    7213891\n",
       "feb    7019375\n",
       "jun    6941024\n",
       "dec    6896317\n",
       "nov    6878111\n",
       "sep    6567788\n",
       "jul    6310419\n",
       "aug    6073357\n",
       "Name: month, dtype: int64"
      ]
     },
     "execution_count": 11,
     "metadata": {},
     "output_type": "execute_result"
    }
   ],
   "source": [
    "# taxi_2019['month'].value_counts()"
   ]
  },
  {
   "cell_type": "code",
   "execution_count": 13,
   "id": "0cde44ea-3aa0-4be9-86e8-192d4efe2b0a",
   "metadata": {},
   "outputs": [],
   "source": [
    "taxi_2019.to_csv('./data/taxi_2019.csv')"
   ]
  },
  {
   "cell_type": "code",
   "execution_count": null,
   "id": "531400f6-d231-4487-b4ec-f5f6f4bfa398",
   "metadata": {},
   "outputs": [],
   "source": [
    "## 2020"
   ]
  },
  {
   "cell_type": "code",
   "execution_count": 2,
   "id": "bf04607b-4d15-4690-8c4e-a8a1886dc545",
   "metadata": {
    "tags": []
   },
   "outputs": [
    {
     "name": "stderr",
     "output_type": "stream",
     "text": [
      "/Users/jonathanbeltran/opt/miniconda3/lib/python3.9/site-packages/IPython/core/interactiveshell.py:3444: DtypeWarning: Columns (7) have mixed types.Specify dtype option on import or set low_memory=False.\n",
      "  exec(code_obj, self.user_global_ns, self.user_ns)\n"
     ]
    }
   ],
   "source": [
    "## Reading in data\n",
    "taxi_jan = pd.read_csv('./data/2020_taxi/01_2020_taxi.csv')\n",
    "taxi_feb = pd.read_csv('./data/2020_taxi/02_2020_taxi.csv')\n",
    "taxi_mar = pd.read_csv('./data/2020_taxi/03_2020_taxi.csv')\n",
    "taxi_apr = pd.read_csv('./data/2020_taxi/04_2020_taxi.csv')\n",
    "taxi_may = pd.read_csv('./data/2020_taxi/05_2020_taxi.csv')\n",
    "taxi_jun = pd.read_csv('./data/2020_taxi/06_2020_taxi.csv')\n",
    "taxi_jul = pd.read_csv('./data/2020_taxi/07_2020_taxi.csv')\n",
    "taxi_aug = pd.read_csv('./data/2020_taxi/08_2020_taxi.csv')\n",
    "taxi_sep = pd.read_csv('./data/2020_taxi/09_2020_taxi.csv')\n",
    "taxi_oct = pd.read_csv('./data/2020_taxi/10_2020_taxi.csv')\n",
    "taxi_nov = pd.read_csv('./data/2020_taxi/11_2020_taxi.csv')\n",
    "taxi_dec = pd.read_csv('./data/2020_taxi/12_2020_taxi.csv')"
   ]
  },
  {
   "cell_type": "code",
   "execution_count": 3,
   "id": "2fcf6f54-c636-4907-a6eb-82d19e129b62",
   "metadata": {
    "tags": []
   },
   "outputs": [],
   "source": [
    "## Removing Unnamed: 0 column from all months\n",
    "taxi_jan = taxi_jan.drop(columns='Unnamed: 0')\n",
    "taxi_feb = taxi_feb.drop(columns='Unnamed: 0')\n",
    "taxi_mar = taxi_mar.drop(columns='Unnamed: 0')\n",
    "taxi_apr = taxi_apr.drop(columns='Unnamed: 0')\n",
    "taxi_may = taxi_may.drop(columns='Unnamed: 0')\n",
    "taxi_jun = taxi_jun.drop(columns='Unnamed: 0')\n",
    "taxi_jul = taxi_jul.drop(columns='Unnamed: 0')\n",
    "taxi_aug = taxi_aug.drop(columns='Unnamed: 0')\n",
    "taxi_sep = taxi_sep.drop(columns='Unnamed: 0')\n",
    "taxi_oct = taxi_oct.drop(columns='Unnamed: 0')\n",
    "taxi_nov = taxi_nov.drop(columns='Unnamed: 0')\n",
    "taxi_dec = taxi_dec.drop(columns='Unnamed: 0')"
   ]
  },
  {
   "cell_type": "code",
   "execution_count": 5,
   "id": "6a30542d-478f-418c-9c59-83bb3a47300f",
   "metadata": {},
   "outputs": [
    {
     "data": {
      "text/plain": [
       "19"
      ]
     },
     "execution_count": 5,
     "metadata": {},
     "output_type": "execute_result"
    }
   ],
   "source": [
    "len(taxi_jan.columns.intersection(taxi_apr.columns))"
   ]
  },
  {
   "cell_type": "code",
   "execution_count": 6,
   "id": "0342d226-0c52-4071-9aec-6c7163eb6425",
   "metadata": {},
   "outputs": [],
   "source": [
    "taxi_jan['month'] = 'jan'\n",
    "taxi_feb['month'] = 'feb'\n",
    "taxi_mar['month'] = 'mar'\n",
    "taxi_apr['month'] = 'apr'\n",
    "taxi_may['month'] = 'may'\n",
    "taxi_jun['month'] = 'jun'\n",
    "taxi_jul['month'] = 'jul'\n",
    "taxi_aug['month'] = 'aug'\n",
    "taxi_sep['month'] = 'sep'\n",
    "taxi_oct['month'] = 'oct'\n",
    "taxi_nov['month'] = 'nov'\n",
    "taxi_dec['month'] = 'dec'"
   ]
  },
  {
   "cell_type": "code",
   "execution_count": 7,
   "id": "e0742a74-383d-48b7-b651-1413e03dc8f7",
   "metadata": {},
   "outputs": [],
   "source": [
    "##Since all months have the same number of columns, I will concatonate them and form one df\n",
    "\n",
    "taxi_2020 = pd.concat([taxi_jan, taxi_feb, taxi_mar, taxi_apr, taxi_may, taxi_jun, taxi_jul, taxi_aug, taxi_sep, taxi_oct, taxi_nov, taxi_dec])"
   ]
  },
  {
   "cell_type": "code",
   "execution_count": 8,
   "id": "455dab99-666a-4d86-9e40-7a80d5703c27",
   "metadata": {},
   "outputs": [],
   "source": [
    "taxi_2020['year'] = 2020"
   ]
  },
  {
   "cell_type": "code",
   "execution_count": 9,
   "id": "64b7629b-d08d-4611-9fda-45a9892de023",
   "metadata": {},
   "outputs": [],
   "source": [
    "taxi_2020.to_csv('./data/taxi_2020.csv')"
   ]
  },
  {
   "cell_type": "code",
   "execution_count": null,
   "id": "5204560a-1303-427f-9f64-707de906541e",
   "metadata": {},
   "outputs": [],
   "source": [
    "# taxi_2020 = pd.read_csv('./taxi_2020.csv')\n",
    "# taxi_2019 = pd.read_csv('./taxi_2019.csv')\n",
    "taxi_2018 = pd.read_csv('./taxi_2018.csv')"
   ]
  },
  {
   "cell_type": "code",
   "execution_count": 6,
   "id": "d5d44773-2816-4f26-bcb6-95b1f47f4e33",
   "metadata": {},
   "outputs": [
    {
     "ename": "NameError",
     "evalue": "name 'taxi_2018' is not defined",
     "output_type": "error",
     "traceback": [
      "\u001b[0;31m---------------------------------------------------------------------------\u001b[0m",
      "\u001b[0;31mNameError\u001b[0m                                 Traceback (most recent call last)",
      "\u001b[0;32m/var/folders/85/gfsz06392cx1589spz1jvvtc0000gn/T/ipykernel_17302/3192141265.py\u001b[0m in \u001b[0;36m<module>\u001b[0;34m\u001b[0m\n\u001b[1;32m      1\u001b[0m \u001b[0;31m## Cropping 2018 data as it is too large\u001b[0m\u001b[0;34m\u001b[0m\u001b[0;34m\u001b[0m\u001b[0;34m\u001b[0m\u001b[0m\n\u001b[1;32m      2\u001b[0m \u001b[0;34m\u001b[0m\u001b[0m\n\u001b[0;32m----> 3\u001b[0;31m \u001b[0mtaxi_2018\u001b[0m\u001b[0;34m.\u001b[0m\u001b[0mhead\u001b[0m\u001b[0;34m(\u001b[0m\u001b[0;34m)\u001b[0m\u001b[0;34m\u001b[0m\u001b[0;34m\u001b[0m\u001b[0m\n\u001b[0m",
      "\u001b[0;31mNameError\u001b[0m: name 'taxi_2018' is not defined"
     ]
    }
   ],
   "source": [
    "## Cropping 2018 data as it is too large\n",
    "np.random.seed(42)\n",
    "\n",
    "remove_n = \n",
    "drop_indices = np.random.choice(taxi_2018.index, remove_n, replace=False)\n",
    "df_subset = df.drop(drop_indices)\n",
    "\n",
    "##source of code is https://stackoverflow.com/questions/28556942/pandas-remove-rows-at-random-without-shuffling-dataset"
   ]
  },
  {
   "cell_type": "code",
   "execution_count": null,
   "id": "30aa33ae-0dfa-4787-a7de-99fd6a8c032b",
   "metadata": {},
   "outputs": [],
   "source": []
  },
  {
   "cell_type": "code",
   "execution_count": null,
   "id": "03fa7efe-920c-43fe-a270-53b4753181e9",
   "metadata": {},
   "outputs": [],
   "source": []
  },
  {
   "cell_type": "code",
   "execution_count": 1,
   "id": "bae65600-b376-418d-b019-5bf969b8c1bc",
   "metadata": {},
   "outputs": [
    {
     "ename": "NameError",
     "evalue": "name 'pd' is not defined",
     "output_type": "error",
     "traceback": [
      "\u001b[0;31m---------------------------------------------------------------------------\u001b[0m",
      "\u001b[0;31mNameError\u001b[0m                                 Traceback (most recent call last)",
      "\u001b[0;32m/var/folders/85/gfsz06392cx1589spz1jvvtc0000gn/T/ipykernel_17302/2915011749.py\u001b[0m in \u001b[0;36m<module>\u001b[0;34m\u001b[0m\n\u001b[0;32m----> 1\u001b[0;31m \u001b[0mfull_taxi\u001b[0m \u001b[0;34m=\u001b[0m \u001b[0mpd\u001b[0m\u001b[0;34m.\u001b[0m\u001b[0mconcat\u001b[0m\u001b[0;34m(\u001b[0m\u001b[0;34m[\u001b[0m\u001b[0mtaxi_2018\u001b[0m\u001b[0;34m,\u001b[0m \u001b[0mtaxi_2019\u001b[0m\u001b[0;34m,\u001b[0m \u001b[0mtaxi_2020\u001b[0m\u001b[0;34m]\u001b[0m\u001b[0;34m)\u001b[0m\u001b[0;34m\u001b[0m\u001b[0;34m\u001b[0m\u001b[0m\n\u001b[0m",
      "\u001b[0;31mNameError\u001b[0m: name 'pd' is not defined"
     ]
    }
   ],
   "source": [
    "full_taxi = pd.concat([taxi_2018, taxi_2019, taxi_2020])"
   ]
  },
  {
   "cell_type": "code",
   "execution_count": null,
   "id": "d666a61f-04a0-4f0e-8ca7-c664d515c190",
   "metadata": {},
   "outputs": [],
   "source": [
    "full_taxi.to_csv('./full_taxi.csv')"
   ]
  },
  {
   "cell_type": "code",
   "execution_count": null,
   "id": "58e54182-e3dc-41f0-87b4-60a994c112f9",
   "metadata": {},
   "outputs": [],
   "source": []
  }
 ],
 "metadata": {
  "kernelspec": {
   "display_name": "Python 3 (ipykernel)",
   "language": "python",
   "name": "python3"
  },
  "language_info": {
   "codemirror_mode": {
    "name": "ipython",
    "version": 3
   },
   "file_extension": ".py",
   "mimetype": "text/x-python",
   "name": "python",
   "nbconvert_exporter": "python",
   "pygments_lexer": "ipython3",
   "version": "3.9.5"
  }
 },
 "nbformat": 4,
 "nbformat_minor": 5
}
