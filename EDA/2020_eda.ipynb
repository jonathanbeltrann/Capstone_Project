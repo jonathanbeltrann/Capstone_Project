{
 "cells": [
  {
   "cell_type": "markdown",
   "id": "beed8b06-5fc6-4e28-99d0-45fa9e9c1deb",
   "metadata": {},
   "source": [
    "### EDA: 2020 Taxi Data"
   ]
  },
  {
   "cell_type": "code",
   "execution_count": 8,
   "id": "cf28c84b-1b5a-45ab-b15d-aafcc3f4340a",
   "metadata": {},
   "outputs": [],
   "source": [
    "## Imports\n",
    "\n",
    "import pandas as pd\n",
    "import numpy as np\n",
    "import seaborn as sns\n",
    "import matplotlib.pyplot as plt\n",
    "import geopandas as gpd\n",
    "import folium \n",
    "\n",
    "import datetime as dt\n",
    "# from datetime import datetime\n",
    "\n"
   ]
  },
  {
   "cell_type": "code",
   "execution_count": 4,
   "id": "8b9bc38f-85c7-4dfb-891c-c58195006b90",
   "metadata": {},
   "outputs": [],
   "source": [
    "## Reading in cleaned file\n",
    "taxi_2020 = pd.read_csv('./data/taxi_2020_clean.csv')"
   ]
  },
  {
   "cell_type": "code",
   "execution_count": 5,
   "id": "02727908-585c-48e7-a58e-7de3ae458305",
   "metadata": {},
   "outputs": [
    {
     "data": {
      "text/html": [
       "<div>\n",
       "<style scoped>\n",
       "    .dataframe tbody tr th:only-of-type {\n",
       "        vertical-align: middle;\n",
       "    }\n",
       "\n",
       "    .dataframe tbody tr th {\n",
       "        vertical-align: top;\n",
       "    }\n",
       "\n",
       "    .dataframe thead th {\n",
       "        text-align: right;\n",
       "    }\n",
       "</style>\n",
       "<table border=\"1\" class=\"dataframe\">\n",
       "  <thead>\n",
       "    <tr style=\"text-align: right;\">\n",
       "      <th></th>\n",
       "      <th>Unnamed: 0</th>\n",
       "      <th>VendorID</th>\n",
       "      <th>pickup_datetime</th>\n",
       "      <th>dropoff_datetime</th>\n",
       "      <th>passenger_count</th>\n",
       "      <th>trip_distance</th>\n",
       "      <th>RatecodeID</th>\n",
       "      <th>store_and_fwd_flag</th>\n",
       "      <th>PULocationID</th>\n",
       "      <th>DOLocationID</th>\n",
       "      <th>...</th>\n",
       "      <th>pickup_day_of_week</th>\n",
       "      <th>dropoff_day_of_week</th>\n",
       "      <th>pickup_hour</th>\n",
       "      <th>dropoff_hour</th>\n",
       "      <th>pickup_timeofday</th>\n",
       "      <th>dropoff_timeofday</th>\n",
       "      <th>trip_time</th>\n",
       "      <th>pickup_borough</th>\n",
       "      <th>dropoff_borough</th>\n",
       "      <th>zone</th>\n",
       "    </tr>\n",
       "  </thead>\n",
       "  <tbody>\n",
       "    <tr>\n",
       "      <th>0</th>\n",
       "      <td>0</td>\n",
       "      <td>1.0</td>\n",
       "      <td>2020-01-01 00:28:15</td>\n",
       "      <td>2020-01-01 00:33:03</td>\n",
       "      <td>1.0</td>\n",
       "      <td>1.2</td>\n",
       "      <td>1.0</td>\n",
       "      <td>N</td>\n",
       "      <td>238</td>\n",
       "      <td>239</td>\n",
       "      <td>...</td>\n",
       "      <td>Wednesday</td>\n",
       "      <td>Wednesday</td>\n",
       "      <td>0</td>\n",
       "      <td>0</td>\n",
       "      <td>Late night</td>\n",
       "      <td>Late night</td>\n",
       "      <td>0 days 00:04:48</td>\n",
       "      <td>Manhattan</td>\n",
       "      <td>Manhattan</td>\n",
       "      <td>Upper West Side North</td>\n",
       "    </tr>\n",
       "    <tr>\n",
       "      <th>1</th>\n",
       "      <td>1</td>\n",
       "      <td>1.0</td>\n",
       "      <td>2020-01-01 00:35:39</td>\n",
       "      <td>2020-01-01 00:43:04</td>\n",
       "      <td>1.0</td>\n",
       "      <td>1.2</td>\n",
       "      <td>1.0</td>\n",
       "      <td>N</td>\n",
       "      <td>239</td>\n",
       "      <td>238</td>\n",
       "      <td>...</td>\n",
       "      <td>Wednesday</td>\n",
       "      <td>Wednesday</td>\n",
       "      <td>0</td>\n",
       "      <td>0</td>\n",
       "      <td>Late night</td>\n",
       "      <td>Late night</td>\n",
       "      <td>0 days 00:07:25</td>\n",
       "      <td>Manhattan</td>\n",
       "      <td>Manhattan</td>\n",
       "      <td>Upper West Side South</td>\n",
       "    </tr>\n",
       "    <tr>\n",
       "      <th>2</th>\n",
       "      <td>2</td>\n",
       "      <td>1.0</td>\n",
       "      <td>2020-01-01 00:47:41</td>\n",
       "      <td>2020-01-01 00:53:52</td>\n",
       "      <td>1.0</td>\n",
       "      <td>0.6</td>\n",
       "      <td>1.0</td>\n",
       "      <td>N</td>\n",
       "      <td>238</td>\n",
       "      <td>238</td>\n",
       "      <td>...</td>\n",
       "      <td>Wednesday</td>\n",
       "      <td>Wednesday</td>\n",
       "      <td>0</td>\n",
       "      <td>0</td>\n",
       "      <td>Late night</td>\n",
       "      <td>Late night</td>\n",
       "      <td>0 days 00:06:11</td>\n",
       "      <td>Manhattan</td>\n",
       "      <td>Manhattan</td>\n",
       "      <td>Upper West Side North</td>\n",
       "    </tr>\n",
       "    <tr>\n",
       "      <th>3</th>\n",
       "      <td>3</td>\n",
       "      <td>1.0</td>\n",
       "      <td>2020-01-01 00:55:23</td>\n",
       "      <td>2020-01-01 01:00:14</td>\n",
       "      <td>1.0</td>\n",
       "      <td>0.8</td>\n",
       "      <td>1.0</td>\n",
       "      <td>N</td>\n",
       "      <td>238</td>\n",
       "      <td>151</td>\n",
       "      <td>...</td>\n",
       "      <td>Wednesday</td>\n",
       "      <td>Wednesday</td>\n",
       "      <td>0</td>\n",
       "      <td>1</td>\n",
       "      <td>Late night</td>\n",
       "      <td>Late night</td>\n",
       "      <td>0 days 00:04:51</td>\n",
       "      <td>Manhattan</td>\n",
       "      <td>Manhattan</td>\n",
       "      <td>Upper West Side North</td>\n",
       "    </tr>\n",
       "    <tr>\n",
       "      <th>4</th>\n",
       "      <td>4</td>\n",
       "      <td>2.0</td>\n",
       "      <td>2020-01-01 00:01:58</td>\n",
       "      <td>2020-01-01 00:04:16</td>\n",
       "      <td>1.0</td>\n",
       "      <td>0.0</td>\n",
       "      <td>1.0</td>\n",
       "      <td>N</td>\n",
       "      <td>193</td>\n",
       "      <td>193</td>\n",
       "      <td>...</td>\n",
       "      <td>Wednesday</td>\n",
       "      <td>Wednesday</td>\n",
       "      <td>0</td>\n",
       "      <td>0</td>\n",
       "      <td>Late night</td>\n",
       "      <td>Late night</td>\n",
       "      <td>0 days 00:02:18</td>\n",
       "      <td>Queens</td>\n",
       "      <td>Queens</td>\n",
       "      <td>Queensbridge/Ravenswood</td>\n",
       "    </tr>\n",
       "  </tbody>\n",
       "</table>\n",
       "<p>5 rows × 31 columns</p>\n",
       "</div>"
      ],
      "text/plain": [
       "   Unnamed: 0  VendorID      pickup_datetime     dropoff_datetime  \\\n",
       "0           0       1.0  2020-01-01 00:28:15  2020-01-01 00:33:03   \n",
       "1           1       1.0  2020-01-01 00:35:39  2020-01-01 00:43:04   \n",
       "2           2       1.0  2020-01-01 00:47:41  2020-01-01 00:53:52   \n",
       "3           3       1.0  2020-01-01 00:55:23  2020-01-01 01:00:14   \n",
       "4           4       2.0  2020-01-01 00:01:58  2020-01-01 00:04:16   \n",
       "\n",
       "   passenger_count  trip_distance  RatecodeID store_and_fwd_flag  \\\n",
       "0              1.0            1.2         1.0                  N   \n",
       "1              1.0            1.2         1.0                  N   \n",
       "2              1.0            0.6         1.0                  N   \n",
       "3              1.0            0.8         1.0                  N   \n",
       "4              1.0            0.0         1.0                  N   \n",
       "\n",
       "   PULocationID  DOLocationID  ...  pickup_day_of_week  dropoff_day_of_week  \\\n",
       "0           238           239  ...           Wednesday            Wednesday   \n",
       "1           239           238  ...           Wednesday            Wednesday   \n",
       "2           238           238  ...           Wednesday            Wednesday   \n",
       "3           238           151  ...           Wednesday            Wednesday   \n",
       "4           193           193  ...           Wednesday            Wednesday   \n",
       "\n",
       "   pickup_hour  dropoff_hour  pickup_timeofday  dropoff_timeofday  \\\n",
       "0            0             0        Late night         Late night   \n",
       "1            0             0        Late night         Late night   \n",
       "2            0             0        Late night         Late night   \n",
       "3            0             1        Late night         Late night   \n",
       "4            0             0        Late night         Late night   \n",
       "\n",
       "         trip_time  pickup_borough  dropoff_borough                     zone  \n",
       "0  0 days 00:04:48       Manhattan        Manhattan    Upper West Side North  \n",
       "1  0 days 00:07:25       Manhattan        Manhattan    Upper West Side South  \n",
       "2  0 days 00:06:11       Manhattan        Manhattan    Upper West Side North  \n",
       "3  0 days 00:04:51       Manhattan        Manhattan    Upper West Side North  \n",
       "4  0 days 00:02:18          Queens           Queens  Queensbridge/Ravenswood  \n",
       "\n",
       "[5 rows x 31 columns]"
      ]
     },
     "execution_count": 5,
     "metadata": {},
     "output_type": "execute_result"
    }
   ],
   "source": [
    "taxi_2020.head()"
   ]
  },
  {
   "cell_type": "code",
   "execution_count": 6,
   "id": "8e82c155-eab8-4adb-aa6f-093208e5d95d",
   "metadata": {},
   "outputs": [],
   "source": [
    "taxi_2020 = taxi_2020.drop(columns='Unnamed: 0')"
   ]
  },
  {
   "cell_type": "code",
   "execution_count": 5,
   "id": "0825d5a0-de5d-4aa3-b9e2-c64e0fc5c6dd",
   "metadata": {},
   "outputs": [],
   "source": [
    "## Nulls make up 3% of rider data in 2020. Better to drop as it is not a significant amount of info.\n",
    "## Additionally, this could be due to drivers taking rides off the record which happens ever so often."
   ]
  },
  {
   "cell_type": "code",
   "execution_count": 7,
   "id": "53eba55d-2117-40e8-b10c-99d7d41d78fa",
   "metadata": {},
   "outputs": [
    {
     "data": {
      "text/plain": [
       "VendorID                  0\n",
       "pickup_datetime           0\n",
       "dropoff_datetime          0\n",
       "passenger_count           0\n",
       "trip_distance             0\n",
       "RatecodeID                0\n",
       "store_and_fwd_flag        0\n",
       "PULocationID              0\n",
       "DOLocationID              0\n",
       "payment_type              0\n",
       "fare_amount               0\n",
       "extra                     0\n",
       "mta_tax                   0\n",
       "tip_amount                0\n",
       "tolls_amount              0\n",
       "improvement_surcharge     0\n",
       "total_amount              0\n",
       "congestion_surcharge      0\n",
       "month                     0\n",
       "year                      0\n",
       "pickup_day_of_week        0\n",
       "dropoff_day_of_week       0\n",
       "pickup_hour               0\n",
       "dropoff_hour              0\n",
       "pickup_timeofday          0\n",
       "dropoff_timeofday         0\n",
       "trip_time                 0\n",
       "pickup_borough            0\n",
       "dropoff_borough           0\n",
       "zone                     70\n",
       "dtype: int64"
      ]
     },
     "execution_count": 7,
     "metadata": {},
     "output_type": "execute_result"
    }
   ],
   "source": [
    "taxi_2020.isna().sum()"
   ]
  },
  {
   "cell_type": "code",
   "execution_count": 9,
   "id": "c84cf1d6-8b99-4ddd-87e9-463c65e83b26",
   "metadata": {},
   "outputs": [],
   "source": [
    "taxi_2020.dropna(inplace=True)"
   ]
  },
  {
   "cell_type": "code",
   "execution_count": 10,
   "id": "a14ad4fa-4825-40c3-a26f-cb7d5e3ee6ef",
   "metadata": {},
   "outputs": [
    {
     "data": {
      "text/html": [
       "<div>\n",
       "<style scoped>\n",
       "    .dataframe tbody tr th:only-of-type {\n",
       "        vertical-align: middle;\n",
       "    }\n",
       "\n",
       "    .dataframe tbody tr th {\n",
       "        vertical-align: top;\n",
       "    }\n",
       "\n",
       "    .dataframe thead th {\n",
       "        text-align: right;\n",
       "    }\n",
       "</style>\n",
       "<table border=\"1\" class=\"dataframe\">\n",
       "  <thead>\n",
       "    <tr style=\"text-align: right;\">\n",
       "      <th></th>\n",
       "      <th>VendorID</th>\n",
       "      <th>pickup_datetime</th>\n",
       "      <th>dropoff_datetime</th>\n",
       "      <th>passenger_count</th>\n",
       "      <th>trip_distance</th>\n",
       "      <th>RatecodeID</th>\n",
       "      <th>store_and_fwd_flag</th>\n",
       "      <th>PULocationID</th>\n",
       "      <th>DOLocationID</th>\n",
       "      <th>payment_type</th>\n",
       "      <th>...</th>\n",
       "      <th>pickup_day_of_week</th>\n",
       "      <th>dropoff_day_of_week</th>\n",
       "      <th>pickup_hour</th>\n",
       "      <th>dropoff_hour</th>\n",
       "      <th>pickup_timeofday</th>\n",
       "      <th>dropoff_timeofday</th>\n",
       "      <th>trip_time</th>\n",
       "      <th>pickup_borough</th>\n",
       "      <th>dropoff_borough</th>\n",
       "      <th>zone</th>\n",
       "    </tr>\n",
       "  </thead>\n",
       "  <tbody>\n",
       "    <tr>\n",
       "      <th>23838646</th>\n",
       "      <td>2.0</td>\n",
       "      <td>2020-12-31 23:05:33</td>\n",
       "      <td>2020-12-31 23:31:36</td>\n",
       "      <td>1.0</td>\n",
       "      <td>11.30</td>\n",
       "      <td>1.0</td>\n",
       "      <td>N</td>\n",
       "      <td>107</td>\n",
       "      <td>242</td>\n",
       "      <td>2.0</td>\n",
       "      <td>...</td>\n",
       "      <td>Thursday</td>\n",
       "      <td>Thursday</td>\n",
       "      <td>23</td>\n",
       "      <td>23</td>\n",
       "      <td>Late night</td>\n",
       "      <td>Late night</td>\n",
       "      <td>0 days 00:26:03</td>\n",
       "      <td>Manhattan</td>\n",
       "      <td>Bronx</td>\n",
       "      <td>Gramercy</td>\n",
       "    </tr>\n",
       "    <tr>\n",
       "      <th>23838647</th>\n",
       "      <td>2.0</td>\n",
       "      <td>2020-12-31 22:57:20</td>\n",
       "      <td>2020-12-31 23:05:33</td>\n",
       "      <td>1.0</td>\n",
       "      <td>2.18</td>\n",
       "      <td>1.0</td>\n",
       "      <td>N</td>\n",
       "      <td>236</td>\n",
       "      <td>161</td>\n",
       "      <td>1.0</td>\n",
       "      <td>...</td>\n",
       "      <td>Thursday</td>\n",
       "      <td>Thursday</td>\n",
       "      <td>22</td>\n",
       "      <td>23</td>\n",
       "      <td>Late night</td>\n",
       "      <td>Late night</td>\n",
       "      <td>0 days 00:08:13</td>\n",
       "      <td>Manhattan</td>\n",
       "      <td>Manhattan</td>\n",
       "      <td>Upper East Side North</td>\n",
       "    </tr>\n",
       "    <tr>\n",
       "      <th>23838648</th>\n",
       "      <td>2.0</td>\n",
       "      <td>2020-12-31 23:40:35</td>\n",
       "      <td>2020-12-31 23:48:43</td>\n",
       "      <td>1.0</td>\n",
       "      <td>2.52</td>\n",
       "      <td>1.0</td>\n",
       "      <td>N</td>\n",
       "      <td>236</td>\n",
       "      <td>24</td>\n",
       "      <td>1.0</td>\n",
       "      <td>...</td>\n",
       "      <td>Thursday</td>\n",
       "      <td>Thursday</td>\n",
       "      <td>23</td>\n",
       "      <td>23</td>\n",
       "      <td>Late night</td>\n",
       "      <td>Late night</td>\n",
       "      <td>0 days 00:08:08</td>\n",
       "      <td>Manhattan</td>\n",
       "      <td>Manhattan</td>\n",
       "      <td>Upper East Side North</td>\n",
       "    </tr>\n",
       "    <tr>\n",
       "      <th>23838649</th>\n",
       "      <td>2.0</td>\n",
       "      <td>2020-12-31 23:54:57</td>\n",
       "      <td>2020-12-31 23:57:39</td>\n",
       "      <td>1.0</td>\n",
       "      <td>0.59</td>\n",
       "      <td>1.0</td>\n",
       "      <td>N</td>\n",
       "      <td>238</td>\n",
       "      <td>239</td>\n",
       "      <td>1.0</td>\n",
       "      <td>...</td>\n",
       "      <td>Thursday</td>\n",
       "      <td>Thursday</td>\n",
       "      <td>23</td>\n",
       "      <td>23</td>\n",
       "      <td>Late night</td>\n",
       "      <td>Late night</td>\n",
       "      <td>0 days 00:02:42</td>\n",
       "      <td>Manhattan</td>\n",
       "      <td>Manhattan</td>\n",
       "      <td>Upper West Side North</td>\n",
       "    </tr>\n",
       "    <tr>\n",
       "      <th>23838650</th>\n",
       "      <td>2.0</td>\n",
       "      <td>2020-12-31 23:11:16</td>\n",
       "      <td>2020-12-31 23:24:08</td>\n",
       "      <td>1.0</td>\n",
       "      <td>6.06</td>\n",
       "      <td>1.0</td>\n",
       "      <td>N</td>\n",
       "      <td>75</td>\n",
       "      <td>169</td>\n",
       "      <td>2.0</td>\n",
       "      <td>...</td>\n",
       "      <td>Thursday</td>\n",
       "      <td>Thursday</td>\n",
       "      <td>23</td>\n",
       "      <td>23</td>\n",
       "      <td>Late night</td>\n",
       "      <td>Late night</td>\n",
       "      <td>0 days 00:12:52</td>\n",
       "      <td>Manhattan</td>\n",
       "      <td>Bronx</td>\n",
       "      <td>East Harlem South</td>\n",
       "    </tr>\n",
       "  </tbody>\n",
       "</table>\n",
       "<p>5 rows × 30 columns</p>\n",
       "</div>"
      ],
      "text/plain": [
       "          VendorID      pickup_datetime     dropoff_datetime  passenger_count  \\\n",
       "23838646       2.0  2020-12-31 23:05:33  2020-12-31 23:31:36              1.0   \n",
       "23838647       2.0  2020-12-31 22:57:20  2020-12-31 23:05:33              1.0   \n",
       "23838648       2.0  2020-12-31 23:40:35  2020-12-31 23:48:43              1.0   \n",
       "23838649       2.0  2020-12-31 23:54:57  2020-12-31 23:57:39              1.0   \n",
       "23838650       2.0  2020-12-31 23:11:16  2020-12-31 23:24:08              1.0   \n",
       "\n",
       "          trip_distance  RatecodeID store_and_fwd_flag  PULocationID  \\\n",
       "23838646          11.30         1.0                  N           107   \n",
       "23838647           2.18         1.0                  N           236   \n",
       "23838648           2.52         1.0                  N           236   \n",
       "23838649           0.59         1.0                  N           238   \n",
       "23838650           6.06         1.0                  N            75   \n",
       "\n",
       "          DOLocationID  payment_type  ...  pickup_day_of_week  \\\n",
       "23838646           242           2.0  ...            Thursday   \n",
       "23838647           161           1.0  ...            Thursday   \n",
       "23838648            24           1.0  ...            Thursday   \n",
       "23838649           239           1.0  ...            Thursday   \n",
       "23838650           169           2.0  ...            Thursday   \n",
       "\n",
       "          dropoff_day_of_week  pickup_hour  dropoff_hour  pickup_timeofday  \\\n",
       "23838646             Thursday           23            23        Late night   \n",
       "23838647             Thursday           22            23        Late night   \n",
       "23838648             Thursday           23            23        Late night   \n",
       "23838649             Thursday           23            23        Late night   \n",
       "23838650             Thursday           23            23        Late night   \n",
       "\n",
       "          dropoff_timeofday        trip_time  pickup_borough dropoff_borough  \\\n",
       "23838646         Late night  0 days 00:26:03       Manhattan           Bronx   \n",
       "23838647         Late night  0 days 00:08:13       Manhattan       Manhattan   \n",
       "23838648         Late night  0 days 00:08:08       Manhattan       Manhattan   \n",
       "23838649         Late night  0 days 00:02:42       Manhattan       Manhattan   \n",
       "23838650         Late night  0 days 00:12:52       Manhattan           Bronx   \n",
       "\n",
       "                           zone  \n",
       "23838646               Gramercy  \n",
       "23838647  Upper East Side North  \n",
       "23838648  Upper East Side North  \n",
       "23838649  Upper West Side North  \n",
       "23838650      East Harlem South  \n",
       "\n",
       "[5 rows x 30 columns]"
      ]
     },
     "execution_count": 10,
     "metadata": {},
     "output_type": "execute_result"
    }
   ],
   "source": [
    "taxi_2020.tail()"
   ]
  },
  {
   "cell_type": "code",
   "execution_count": 11,
   "id": "604d4eb1-2b4b-46b3-8c7f-ce03e49af323",
   "metadata": {},
   "outputs": [
    {
     "data": {
      "image/png": "[encoded data removed]",
      "text/plain": [
       "<Figure size 1440x360 with 2 Axes>"
      ]
     },
     "metadata": {
      "needs_background": "light"
     },
     "output_type": "display_data"
    }
   ],
   "source": [
    "## Passenger Count by Pickup Day\n",
    "figure,(ax1,ax2)=plt.subplots(ncols=2,figsize=(20,5))\n",
    "ax1.set_title('Pickup Days')\n",
    "ax=sns.countplot(data=taxi_2020, x='pickup_day_of_week', hue='pickup_borough', ax=ax1);\n",
    "\n",
    "## Passenger Count by Dropoff Days\n",
    "ax2.set_title('Dropoff Days')\n",
    "ax=sns.countplot(data=taxi_2020, x='dropoff_day_of_week', hue='dropoff_borough', ax=ax2);\n",
    "# sns.countplot(x=\"dropoff_day_of_week\",data=taxi_2019,ax=ax2)"
   ]
  },
  {
   "cell_type": "code",
   "execution_count": 13,
   "id": "51690182-8c77-400c-af9c-314349610d0b",
   "metadata": {},
   "outputs": [
    {
     "data": {
      "image/png": "[encoded data removed]",
      "text/plain": [
       "<Figure size 1440x360 with 2 Axes>"
      ]
     },
     "metadata": {
      "needs_background": "light"
     },
     "output_type": "display_data"
    }
   ],
   "source": [
    "## Passenger Count by Pickup Day\n",
    "figure,(ax1,ax2)=plt.subplots(ncols=2,figsize=(20,5))\n",
    "ax1.set_title('Pickup Days')\n",
    "ax=sns.countplot(data=taxi_2020, x='pickup_day_of_week', ax=ax1);\n",
    "\n",
    "## Passenger Count by Dropoff Days\n",
    "ax2.set_title('Dropoff Days')\n",
    "ax=sns.countplot(data=taxi_2020, x='dropoff_day_of_week', ax=ax2);\n",
    "# sns.countplot(x=\"dropoff_day_of_week\",data=taxi_2019,ax=ax2)"
   ]
  },
  {
   "cell_type": "code",
   "execution_count": 14,
   "id": "4b6b89ad-9333-43f1-a9be-d8567864c1c6",
   "metadata": {},
   "outputs": [
    {
     "data": {
      "image/png": "[encoded data removed]",
      "text/plain": [
       "<Figure size 1440x360 with 2 Axes>"
      ]
     },
     "metadata": {
      "needs_background": "light"
     },
     "output_type": "display_data"
    }
   ],
   "source": [
    "## Picked up trips by time of day\n",
    "figure,(ax1,ax2)=plt.subplots(ncols=2,figsize=(20,5))\n",
    "ax1.set_title('Pickup Time of Day')\n",
    "ax=sns.countplot(x=\"pickup_timeofday\",data=taxi_2020,ax=ax1, color='green');\n",
    "\n",
    "## Dropoff trips by time of day\n",
    "ax2.set_title('Dropoff Time of Day')\n",
    "ax=sns.countplot(x=\"dropoff_timeofday\",data=taxi_2020,ax=ax2, color='green');"
   ]
  },
  {
   "cell_type": "code",
   "execution_count": 20,
   "id": "e4a09a0e-f650-48d6-8417-33da9813bb61",
   "metadata": {},
   "outputs": [],
   "source": [
    "## Taxis are hailed predominantly in the evening hours"
   ]
  },
  {
   "cell_type": "code",
   "execution_count": 22,
   "id": "4fc94647-e578-4a6f-831e-cbc9a4f4b8f6",
   "metadata": {},
   "outputs": [],
   "source": [
    "# Dihistplotnce of trips by Time of day\n",
    "# sns.lineplot(x='pickup_timeofday',y='trip_distance',data=taxi_2019)"
   ]
  },
  {
   "cell_type": "code",
   "execution_count": 17,
   "id": "a5c48af4-bad6-4d4c-9951-619584fda63a",
   "metadata": {},
   "outputs": [],
   "source": [
    "# Don't want to look at any trips over 100 mile radius of NYC\n",
    "taxi_2020 = taxi_2020.drop((taxi_2020.loc[taxi_2020['trip_distance'] > 100]).index)"
   ]
  },
  {
   "cell_type": "code",
   "execution_count": 18,
   "id": "d632a04d-3dcf-4246-856d-828fb7f511b5",
   "metadata": {},
   "outputs": [
    {
     "data": {
      "text/plain": [
       "<AxesSubplot:xlabel='trip_distance', ylabel='Count'>"
      ]
     },
     "execution_count": 18,
     "metadata": {},
     "output_type": "execute_result"
    },
    {
     "data": {
      "image/png": "[encoded data removed]",
      "text/plain": [
       "<Figure size 432x288 with 1 Axes>"
      ]
     },
     "metadata": {
      "needs_background": "light"
     },
     "output_type": "display_data"
    }
   ],
   "source": [
    "sns.histplot(taxi_2020['trip_distance'], bins= 3)"
   ]
  },
  {
   "cell_type": "code",
   "execution_count": 20,
   "id": "270d5142-72b5-4eac-aa82-5c5a9f73509b",
   "metadata": {},
   "outputs": [
    {
     "data": {
      "text/plain": [
       "(317522, 30)"
      ]
     },
     "execution_count": 20,
     "metadata": {},
     "output_type": "execute_result"
    }
   ],
   "source": [
    "taxi_2020.loc[taxi_2020['trip_distance'] == 0].shape"
   ]
  },
  {
   "cell_type": "markdown",
   "id": "caa7721a-5ebf-4c33-ae56-91f3decc7b1e",
   "metadata": {},
   "source": [
    "There are 317k rides where the trip distance is 0. \n",
    "The reasons for 0 km distance can be:\n",
    "\n",
    "- The dropoff location couldn’t be tracked.\n",
    "- The driver deliberately took this ride to complete a target ride number.\n",
    "- The passengers canceled the trip.\n"
   ]
  },
  {
   "cell_type": "code",
   "execution_count": 21,
   "id": "956949a0-0767-48db-ac05-2aef655bf105",
   "metadata": {},
   "outputs": [],
   "source": [
    "## Dropping these \n",
    "taxi_2020 = taxi_2020[taxi_2020['trip_distance'] != 0]"
   ]
  },
  {
   "cell_type": "code",
   "execution_count": 22,
   "id": "745ac419-c7e8-40d5-8294-34bf471a623d",
   "metadata": {},
   "outputs": [
    {
     "data": {
      "image/png": "[encoded data removed]",
      "text/plain": [
       "<Figure size 432x288 with 1 Axes>"
      ]
     },
     "metadata": {
      "needs_background": "light"
     },
     "output_type": "display_data"
    }
   ],
   "source": [
    "sns.histplot(taxi_2020['trip_distance'], bins= 5);"
   ]
  },
  {
   "cell_type": "code",
   "execution_count": 23,
   "id": "b00c39e9-7001-4625-b1df-39a193b23e6a",
   "metadata": {},
   "outputs": [],
   "source": [
    "## majority of rides are under a mile"
   ]
  },
  {
   "cell_type": "code",
   "execution_count": 24,
   "id": "fb66989b-7d0b-4c21-8da1-ccc1d9c8b6c1",
   "metadata": {},
   "outputs": [
    {
     "data": {
      "text/plain": [
       "''"
      ]
     },
     "execution_count": 24,
     "metadata": {},
     "output_type": "execute_result"
    },
    {
     "data": {
      "image/png": "[encoded data removed]",
      "text/plain": [
       "<Figure size 432x288 with 1 Axes>"
      ]
     },
     "metadata": {
      "needs_background": "light"
     },
     "output_type": "display_data"
    }
   ],
   "source": [
    "## Passenger count per ride\n",
    "taxi_2020['passenger_count'].value_counts(ascending=True).plot(kind='barh')\n",
    ";"
   ]
  },
  {
   "cell_type": "code",
   "execution_count": 25,
   "id": "69d9c5c1-f0d4-4693-a104-d5c20757f04e",
   "metadata": {},
   "outputs": [],
   "source": [
    "##excluding rows over 6 passengers and 0 passengers\n",
    "taxi_2020 = taxi_2020[taxi_2020['passenger_count'] <= 6]\n",
    "taxi_2020 = taxi_2020[taxi_2020['passenger_count'] != 0]"
   ]
  },
  {
   "cell_type": "code",
   "execution_count": 26,
   "id": "3e51cc39-2c8b-41bd-a24f-5bea9d541171",
   "metadata": {},
   "outputs": [
    {
     "data": {
      "text/plain": [
       "1.0    17240396\n",
       "2.0     3325400\n",
       "3.0      867700\n",
       "5.0      748695\n",
       "6.0      472038\n",
       "4.0      386238\n",
       "Name: passenger_count, dtype: int64"
      ]
     },
     "execution_count": 26,
     "metadata": {},
     "output_type": "execute_result"
    }
   ],
   "source": [
    "taxi_2020['passenger_count'].value_counts(ascending=False)"
   ]
  },
  {
   "cell_type": "code",
   "execution_count": 27,
   "id": "06ca0a08-9a06-45b5-bfaf-f6db6d5d6f01",
   "metadata": {},
   "outputs": [
    {
     "data": {
      "text/plain": [
       "''"
      ]
     },
     "execution_count": 27,
     "metadata": {},
     "output_type": "execute_result"
    },
    {
     "data": {
      "image/png": "[encoded data removed]",
      "text/plain": [
       "<Figure size 432x288 with 1 Axes>"
      ]
     },
     "metadata": {
      "needs_background": "light"
     },
     "output_type": "display_data"
    }
   ],
   "source": [
    "## Passenger count per ride\n",
    "taxi_2020['passenger_count'].value_counts(ascending=True).plot(kind='barh')\n",
    ";"
   ]
  },
  {
   "cell_type": "code",
   "execution_count": 28,
   "id": "875771b8-fc76-41ec-9bfc-ccde858ac8d9",
   "metadata": {},
   "outputs": [],
   "source": [
    "#saving file again after additional cleaning\n",
    "taxi_2020.to_csv('data/taxi_2020_clean_2.csv')"
   ]
  },
  {
   "cell_type": "code",
   "execution_count": 29,
   "id": "9b17f4d4-091f-4e13-a85f-6fa737fcfc5c",
   "metadata": {},
   "outputs": [
    {
     "ename": "NameError",
     "evalue": "name 'taxi_2019' is not defined",
     "output_type": "error",
     "traceback": [
      "\u001b[0;31m---------------------------------------------------------------------------\u001b[0m",
      "\u001b[0;31mNameError\u001b[0m                                 Traceback (most recent call last)",
      "\u001b[0;32m/var/folders/85/gfsz06392cx1589spz1jvvtc0000gn/T/ipykernel_26131/187244600.py\u001b[0m in \u001b[0;36m<module>\u001b[0;34m\u001b[0m\n\u001b[0;32m----> 1\u001b[0;31m \u001b[0msns\u001b[0m\u001b[0;34m.\u001b[0m\u001b[0mcountplot\u001b[0m\u001b[0;34m(\u001b[0m\u001b[0mx\u001b[0m\u001b[0;34m=\u001b[0m\u001b[0;34m'passenger_count'\u001b[0m\u001b[0;34m,\u001b[0m\u001b[0mdata\u001b[0m\u001b[0;34m=\u001b[0m\u001b[0mtaxi_2019\u001b[0m\u001b[0;34m)\u001b[0m\u001b[0;34m\u001b[0m\u001b[0;34m\u001b[0m\u001b[0m\n\u001b[0m",
      "\u001b[0;31mNameError\u001b[0m: name 'taxi_2019' is not defined"
     ]
    }
   ],
   "source": [
    "sns.countplot(x='passenger_count',data=taxi_2019)"
   ]
  },
  {
   "cell_type": "code",
   "execution_count": 51,
   "id": "3b1de7d4-0da1-4a93-bdc7-ccd1f6c0f6b1",
   "metadata": {},
   "outputs": [],
   "source": [
    "## Majority of rides are hailed by paties of 1"
   ]
  },
  {
   "cell_type": "code",
   "execution_count": 54,
   "id": "3ce2e197-9dc7-4306-a445-2fa82d3dc9da",
   "metadata": {},
   "outputs": [
    {
     "data": {
      "text/plain": [
       "VendorID                 float64\n",
       "pickup_datetime           object\n",
       "dropoff_datetime          object\n",
       "passenger_count          float64\n",
       "trip_distance            float64\n",
       "RatecodeID               float64\n",
       "store_and_fwd_flag        object\n",
       "PULocationID               int64\n",
       "DOLocationID               int64\n",
       "payment_type             float64\n",
       "fare_amount              float64\n",
       "extra                    float64\n",
       "mta_tax                  float64\n",
       "tip_amount               float64\n",
       "tolls_amount             float64\n",
       "improvement_surcharge    float64\n",
       "total_amount             float64\n",
       "congestion_surcharge     float64\n",
       "month                     object\n",
       "year                       int64\n",
       "pickup_day_of_week        object\n",
       "dropoff_day_of_week       object\n",
       "pickup_hour                int64\n",
       "dropoff_hour               int64\n",
       "pickup_timeofday          object\n",
       "dropoff_timeofday         object\n",
       "trip_time                 object\n",
       "pickup_borough            object\n",
       "dropoff_borough           object\n",
       "zone                      object\n",
       "dtype: object"
      ]
     },
     "execution_count": 54,
     "metadata": {},
     "output_type": "execute_result"
    }
   ],
   "source": [
    "taxi_2020.dtypes"
   ]
  },
  {
   "cell_type": "code",
   "execution_count": null,
   "id": "90e7c754-b97a-402b-b3f7-a4f906a77754",
   "metadata": {},
   "outputs": [],
   "source": [
    "## Looking at distances \n",
    "plt.figure(figsize=(12,8))\n",
    "(taxi_2020['trip_distance'].value_counts(ascending=False)).plot(kind= 'hist', bins=50)"
   ]
  },
  {
   "cell_type": "code",
   "execution_count": 2,
   "id": "7405e7e5-a5a7-4652-bed9-d9e89d095e89",
   "metadata": {},
   "outputs": [],
   "source": [
    "## sns.lineplot(y='trip_time',x='pickup_timeofday',data=taxi_2019)\n",
    "## Reloading cleaned_2 file\n",
    "\n",
    "# taxi_2019 = pd.read_csv('./data/taxi_2019_clean_2.csv')\n"
   ]
  },
  {
   "cell_type": "code",
   "execution_count": 3,
   "id": "2ca961a7-a80d-48e0-b30e-39e74dc9af38",
   "metadata": {},
   "outputs": [],
   "source": [
    "# taxi_2019['pickup_datetime'] = pd.to_datetime(taxi_2019['pickup_datetime'])"
   ]
  },
  {
   "cell_type": "code",
   "execution_count": 4,
   "id": "9d890245-64af-476e-ae28-455158cef3f7",
   "metadata": {},
   "outputs": [],
   "source": [
    "# taxi_2019 = taxi_2019.set_index(pd.DatetimeIndex(taxi_2019['pickup_datetime']))"
   ]
  },
  {
   "cell_type": "code",
   "execution_count": null,
   "id": "d1b8fef0-ffe6-4814-bf72-65bbadd3ead4",
   "metadata": {},
   "outputs": [],
   "source": []
  }
 ],
 "metadata": {
  "kernelspec": {
   "display_name": "Python 3 (ipykernel)",
   "language": "python",
   "name": "python3"
  },
  "language_info": {
   "codemirror_mode": {
    "name": "ipython",
    "version": 3
   },
   "file_extension": ".py",
   "mimetype": "text/x-python",
   "name": "python",
   "nbconvert_exporter": "python",
   "pygments_lexer": "ipython3",
   "version": "3.9.5"
  }
 },
 "nbformat": 4,
 "nbformat_minor": 5
}
