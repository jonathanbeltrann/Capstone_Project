{
 "cells": [
  {
   "cell_type": "markdown",
   "id": "424113e8-d0ad-41e3-af3b-71dbad0520f3",
   "metadata": {},
   "source": [
    "### EDA: 2019 Taxi Data"
   ]
  },
  {
   "cell_type": "code",
   "execution_count": 14,
   "id": "ac5fd84c-cf95-4b35-bdab-6dfd20a590e2",
   "metadata": {},
   "outputs": [],
   "source": [
    "## Imports\n",
    "\n",
    "import pandas as pd\n",
    "import numpy as np\n",
    "import seaborn as sns\n",
    "import matplotlib.pyplot as plt\n",
    "import geopandas as gpd\n",
    "import folium \n",
    "\n",
    "import datetime as dt\n",
    "# from datetime import datetime\n",
    "\n"
   ]
  },
  {
   "cell_type": "code",
   "execution_count": 2,
   "id": "feaf58df-ce1f-4479-b37d-a9305bd34aca",
   "metadata": {},
   "outputs": [],
   "source": [
    "## Reading in cleaned file\n",
    "taxi_2019 = pd.read_csv('./data/taxi_2019_clean.csv')"
   ]
  },
  {
   "cell_type": "code",
   "execution_count": 3,
   "id": "18e3cd74-a204-4218-9d84-4cead03b0148",
   "metadata": {},
   "outputs": [
    {
     "data": {
      "text/html": [
       "<div>\n",
       "<style scoped>\n",
       "    .dataframe tbody tr th:only-of-type {\n",
       "        vertical-align: middle;\n",
       "    }\n",
       "\n",
       "    .dataframe tbody tr th {\n",
       "        vertical-align: top;\n",
       "    }\n",
       "\n",
       "    .dataframe thead th {\n",
       "        text-align: right;\n",
       "    }\n",
       "</style>\n",
       "<table border=\"1\" class=\"dataframe\">\n",
       "  <thead>\n",
       "    <tr style=\"text-align: right;\">\n",
       "      <th></th>\n",
       "      <th>Unnamed: 0</th>\n",
       "      <th>VendorID</th>\n",
       "      <th>pickup_datetime</th>\n",
       "      <th>dropoff_datetime</th>\n",
       "      <th>passenger_count</th>\n",
       "      <th>trip_distance</th>\n",
       "      <th>RatecodeID</th>\n",
       "      <th>store_and_fwd_flag</th>\n",
       "      <th>PULocationID</th>\n",
       "      <th>DOLocationID</th>\n",
       "      <th>...</th>\n",
       "      <th>month</th>\n",
       "      <th>year</th>\n",
       "      <th>pickup_day_of_week</th>\n",
       "      <th>dropoff_day_of_week</th>\n",
       "      <th>pickup_hour</th>\n",
       "      <th>dropoff_hour</th>\n",
       "      <th>pickup_timeofday</th>\n",
       "      <th>pickup_borough</th>\n",
       "      <th>dropoff_borough</th>\n",
       "      <th>zone</th>\n",
       "    </tr>\n",
       "  </thead>\n",
       "  <tbody>\n",
       "    <tr>\n",
       "      <th>0</th>\n",
       "      <td>68268</td>\n",
       "      <td>1.0</td>\n",
       "      <td>2019-01-01 07:01:20</td>\n",
       "      <td>2019-01-31 14:29:21</td>\n",
       "      <td>1.0</td>\n",
       "      <td>1.2</td>\n",
       "      <td>1.0</td>\n",
       "      <td>N</td>\n",
       "      <td>48</td>\n",
       "      <td>163</td>\n",
       "      <td>...</td>\n",
       "      <td>jan</td>\n",
       "      <td>2019</td>\n",
       "      <td>Tuesday</td>\n",
       "      <td>Thursday</td>\n",
       "      <td>7</td>\n",
       "      <td>14</td>\n",
       "      <td>Morning</td>\n",
       "      <td>Manhattan</td>\n",
       "      <td>Manhattan</td>\n",
       "      <td>Clinton East</td>\n",
       "    </tr>\n",
       "    <tr>\n",
       "      <th>1</th>\n",
       "      <td>579459</td>\n",
       "      <td>1.0</td>\n",
       "      <td>2019-01-03 21:43:46</td>\n",
       "      <td>2019-01-03 21:45:47</td>\n",
       "      <td>1.0</td>\n",
       "      <td>0.6</td>\n",
       "      <td>1.0</td>\n",
       "      <td>N</td>\n",
       "      <td>263</td>\n",
       "      <td>141</td>\n",
       "      <td>...</td>\n",
       "      <td>jan</td>\n",
       "      <td>2019</td>\n",
       "      <td>Thursday</td>\n",
       "      <td>Thursday</td>\n",
       "      <td>21</td>\n",
       "      <td>21</td>\n",
       "      <td>Evening</td>\n",
       "      <td>Manhattan</td>\n",
       "      <td>Manhattan</td>\n",
       "      <td>Yorkville West</td>\n",
       "    </tr>\n",
       "    <tr>\n",
       "      <th>2</th>\n",
       "      <td>579460</td>\n",
       "      <td>1.0</td>\n",
       "      <td>2019-01-03 21:49:22</td>\n",
       "      <td>2019-01-03 21:59:12</td>\n",
       "      <td>1.0</td>\n",
       "      <td>2.2</td>\n",
       "      <td>1.0</td>\n",
       "      <td>N</td>\n",
       "      <td>263</td>\n",
       "      <td>151</td>\n",
       "      <td>...</td>\n",
       "      <td>jan</td>\n",
       "      <td>2019</td>\n",
       "      <td>Thursday</td>\n",
       "      <td>Thursday</td>\n",
       "      <td>21</td>\n",
       "      <td>21</td>\n",
       "      <td>Evening</td>\n",
       "      <td>Manhattan</td>\n",
       "      <td>Manhattan</td>\n",
       "      <td>Yorkville West</td>\n",
       "    </tr>\n",
       "    <tr>\n",
       "      <th>3</th>\n",
       "      <td>592224</td>\n",
       "      <td>1.0</td>\n",
       "      <td>2019-01-03 22:04:40</td>\n",
       "      <td>2019-01-03 22:16:15</td>\n",
       "      <td>1.0</td>\n",
       "      <td>2.5</td>\n",
       "      <td>1.0</td>\n",
       "      <td>N</td>\n",
       "      <td>238</td>\n",
       "      <td>246</td>\n",
       "      <td>...</td>\n",
       "      <td>jan</td>\n",
       "      <td>2019</td>\n",
       "      <td>Thursday</td>\n",
       "      <td>Thursday</td>\n",
       "      <td>22</td>\n",
       "      <td>22</td>\n",
       "      <td>Late night</td>\n",
       "      <td>Manhattan</td>\n",
       "      <td>Manhattan</td>\n",
       "      <td>Upper West Side North</td>\n",
       "    </tr>\n",
       "    <tr>\n",
       "      <th>4</th>\n",
       "      <td>592225</td>\n",
       "      <td>1.0</td>\n",
       "      <td>2019-01-03 22:24:36</td>\n",
       "      <td>2019-01-27 10:41:17</td>\n",
       "      <td>1.0</td>\n",
       "      <td>1.1</td>\n",
       "      <td>1.0</td>\n",
       "      <td>N</td>\n",
       "      <td>50</td>\n",
       "      <td>170</td>\n",
       "      <td>...</td>\n",
       "      <td>jan</td>\n",
       "      <td>2019</td>\n",
       "      <td>Thursday</td>\n",
       "      <td>Sunday</td>\n",
       "      <td>22</td>\n",
       "      <td>10</td>\n",
       "      <td>Late night</td>\n",
       "      <td>Manhattan</td>\n",
       "      <td>Manhattan</td>\n",
       "      <td>Clinton West</td>\n",
       "    </tr>\n",
       "  </tbody>\n",
       "</table>\n",
       "<p>5 rows × 29 columns</p>\n",
       "</div>"
      ],
      "text/plain": [
       "   Unnamed: 0  VendorID      pickup_datetime     dropoff_datetime  \\\n",
       "0       68268       1.0  2019-01-01 07:01:20  2019-01-31 14:29:21   \n",
       "1      579459       1.0  2019-01-03 21:43:46  2019-01-03 21:45:47   \n",
       "2      579460       1.0  2019-01-03 21:49:22  2019-01-03 21:59:12   \n",
       "3      592224       1.0  2019-01-03 22:04:40  2019-01-03 22:16:15   \n",
       "4      592225       1.0  2019-01-03 22:24:36  2019-01-27 10:41:17   \n",
       "\n",
       "   passenger_count  trip_distance  RatecodeID store_and_fwd_flag  \\\n",
       "0              1.0            1.2         1.0                  N   \n",
       "1              1.0            0.6         1.0                  N   \n",
       "2              1.0            2.2         1.0                  N   \n",
       "3              1.0            2.5         1.0                  N   \n",
       "4              1.0            1.1         1.0                  N   \n",
       "\n",
       "   PULocationID  DOLocationID  ...  month  year  pickup_day_of_week  \\\n",
       "0            48           163  ...    jan  2019             Tuesday   \n",
       "1           263           141  ...    jan  2019            Thursday   \n",
       "2           263           151  ...    jan  2019            Thursday   \n",
       "3           238           246  ...    jan  2019            Thursday   \n",
       "4            50           170  ...    jan  2019            Thursday   \n",
       "\n",
       "   dropoff_day_of_week  pickup_hour  dropoff_hour  pickup_timeofday  \\\n",
       "0             Thursday            7            14           Morning   \n",
       "1             Thursday           21            21           Evening   \n",
       "2             Thursday           21            21           Evening   \n",
       "3             Thursday           22            22        Late night   \n",
       "4               Sunday           22            10        Late night   \n",
       "\n",
       "   pickup_borough  dropoff_borough                   zone  \n",
       "0       Manhattan        Manhattan           Clinton East  \n",
       "1       Manhattan        Manhattan         Yorkville West  \n",
       "2       Manhattan        Manhattan         Yorkville West  \n",
       "3       Manhattan        Manhattan  Upper West Side North  \n",
       "4       Manhattan        Manhattan           Clinton West  \n",
       "\n",
       "[5 rows x 29 columns]"
      ]
     },
     "execution_count": 3,
     "metadata": {},
     "output_type": "execute_result"
    }
   ],
   "source": [
    "taxi_2019.head()"
   ]
  },
  {
   "cell_type": "code",
   "execution_count": 4,
   "id": "5c772e25-7193-4b90-9915-1997df44ac63",
   "metadata": {},
   "outputs": [],
   "source": [
    "taxi_2019 = taxi_2019.drop(columns='Unnamed: 0')"
   ]
  },
  {
   "cell_type": "code",
   "execution_count": 5,
   "id": "52e427e3-8e10-44ca-98d3-ce6e4fac4cef",
   "metadata": {},
   "outputs": [],
   "source": [
    "## Nulls make up 3% of rider data in 2020. Better to drop as it is not a significant amount of info.\n",
    "## Additionally, this could be due to drivers taking rides off the record which happens ever so often."
   ]
  },
  {
   "cell_type": "code",
   "execution_count": 5,
   "id": "928f00f2-3128-461e-b82e-ec7265ecdb92",
   "metadata": {},
   "outputs": [
    {
     "data": {
      "text/plain": [
       "VendorID                   0\n",
       "pickup_datetime            0\n",
       "dropoff_datetime           0\n",
       "passenger_count            0\n",
       "trip_distance              0\n",
       "RatecodeID                 0\n",
       "store_and_fwd_flag         0\n",
       "PULocationID               0\n",
       "DOLocationID               0\n",
       "payment_type               0\n",
       "fare_amount                0\n",
       "extra                      0\n",
       "mta_tax                    0\n",
       "tip_amount                 0\n",
       "tolls_amount               0\n",
       "improvement_surcharge      0\n",
       "total_amount               0\n",
       "congestion_surcharge       0\n",
       "month                      0\n",
       "year                       0\n",
       "pickup_day_of_week         0\n",
       "dropoff_day_of_week        0\n",
       "pickup_hour                0\n",
       "dropoff_hour               0\n",
       "pickup_timeofday           0\n",
       "pickup_borough             0\n",
       "dropoff_borough            0\n",
       "zone                     331\n",
       "dtype: int64"
      ]
     },
     "execution_count": 5,
     "metadata": {},
     "output_type": "execute_result"
    }
   ],
   "source": [
    "taxi_2019.isna().sum()"
   ]
  },
  {
   "cell_type": "code",
   "execution_count": 7,
   "id": "33e62845-091a-461e-983f-c9d22de0100e",
   "metadata": {},
   "outputs": [],
   "source": [
    "taxi_2019.dropna(inplace=True)"
   ]
  },
  {
   "cell_type": "code",
   "execution_count": 14,
   "id": "cee50f35-f30f-4214-bd31-ad72ff0e93c5",
   "metadata": {},
   "outputs": [
    {
     "data": {
      "text/html": [
       "<div>\n",
       "<style scoped>\n",
       "    .dataframe tbody tr th:only-of-type {\n",
       "        vertical-align: middle;\n",
       "    }\n",
       "\n",
       "    .dataframe tbody tr th {\n",
       "        vertical-align: top;\n",
       "    }\n",
       "\n",
       "    .dataframe thead th {\n",
       "        text-align: right;\n",
       "    }\n",
       "</style>\n",
       "<table border=\"1\" class=\"dataframe\">\n",
       "  <thead>\n",
       "    <tr style=\"text-align: right;\">\n",
       "      <th></th>\n",
       "      <th>VendorID</th>\n",
       "      <th>pickup_datetime</th>\n",
       "      <th>dropoff_datetime</th>\n",
       "      <th>passenger_count</th>\n",
       "      <th>trip_distance</th>\n",
       "      <th>RatecodeID</th>\n",
       "      <th>store_and_fwd_flag</th>\n",
       "      <th>PULocationID</th>\n",
       "      <th>DOLocationID</th>\n",
       "      <th>payment_type</th>\n",
       "      <th>...</th>\n",
       "      <th>pickup_day_of_week</th>\n",
       "      <th>dropoff_day_of_week</th>\n",
       "      <th>pickup_hour</th>\n",
       "      <th>dropoff_hour</th>\n",
       "      <th>pickup_timeofday</th>\n",
       "      <th>dropoff_timeofday</th>\n",
       "      <th>trip_time</th>\n",
       "      <th>pickup_borough</th>\n",
       "      <th>dropoff_borough</th>\n",
       "      <th>zone</th>\n",
       "    </tr>\n",
       "  </thead>\n",
       "  <tbody>\n",
       "    <tr>\n",
       "      <th>33050205</th>\n",
       "      <td>1.0</td>\n",
       "      <td>2019-06-02 17:41:35</td>\n",
       "      <td>2019-06-02 17:45:08</td>\n",
       "      <td>1.0</td>\n",
       "      <td>0.5</td>\n",
       "      <td>1.0</td>\n",
       "      <td>N</td>\n",
       "      <td>239</td>\n",
       "      <td>143</td>\n",
       "      <td>1.0</td>\n",
       "      <td>...</td>\n",
       "      <td>Sunday</td>\n",
       "      <td>Sunday</td>\n",
       "      <td>17</td>\n",
       "      <td>17</td>\n",
       "      <td>Evening</td>\n",
       "      <td>Evening</td>\n",
       "      <td>0 days 00:03:33</td>\n",
       "      <td>Manhattan</td>\n",
       "      <td>Manhattan</td>\n",
       "      <td>Upper West Side South</td>\n",
       "    </tr>\n",
       "    <tr>\n",
       "      <th>33050206</th>\n",
       "      <td>1.0</td>\n",
       "      <td>2019-06-02 17:54:34</td>\n",
       "      <td>2019-06-02 18:02:15</td>\n",
       "      <td>1.0</td>\n",
       "      <td>1.6</td>\n",
       "      <td>1.0</td>\n",
       "      <td>N</td>\n",
       "      <td>142</td>\n",
       "      <td>236</td>\n",
       "      <td>1.0</td>\n",
       "      <td>...</td>\n",
       "      <td>Sunday</td>\n",
       "      <td>Sunday</td>\n",
       "      <td>17</td>\n",
       "      <td>18</td>\n",
       "      <td>Evening</td>\n",
       "      <td>Evening</td>\n",
       "      <td>0 days 00:07:41</td>\n",
       "      <td>Manhattan</td>\n",
       "      <td>Manhattan</td>\n",
       "      <td>Lincoln Square East</td>\n",
       "    </tr>\n",
       "    <tr>\n",
       "      <th>33050207</th>\n",
       "      <td>1.0</td>\n",
       "      <td>2019-06-02 17:08:31</td>\n",
       "      <td>2019-06-02 17:13:41</td>\n",
       "      <td>2.0</td>\n",
       "      <td>0.8</td>\n",
       "      <td>1.0</td>\n",
       "      <td>N</td>\n",
       "      <td>161</td>\n",
       "      <td>43</td>\n",
       "      <td>2.0</td>\n",
       "      <td>...</td>\n",
       "      <td>Sunday</td>\n",
       "      <td>Sunday</td>\n",
       "      <td>17</td>\n",
       "      <td>17</td>\n",
       "      <td>Evening</td>\n",
       "      <td>Evening</td>\n",
       "      <td>0 days 00:05:10</td>\n",
       "      <td>Manhattan</td>\n",
       "      <td>Manhattan</td>\n",
       "      <td>Midtown Center</td>\n",
       "    </tr>\n",
       "    <tr>\n",
       "      <th>33050208</th>\n",
       "      <td>1.0</td>\n",
       "      <td>2019-06-02 17:15:02</td>\n",
       "      <td>2019-06-02 17:19:13</td>\n",
       "      <td>1.0</td>\n",
       "      <td>0.7</td>\n",
       "      <td>1.0</td>\n",
       "      <td>N</td>\n",
       "      <td>142</td>\n",
       "      <td>43</td>\n",
       "      <td>1.0</td>\n",
       "      <td>...</td>\n",
       "      <td>Sunday</td>\n",
       "      <td>Sunday</td>\n",
       "      <td>17</td>\n",
       "      <td>17</td>\n",
       "      <td>Evening</td>\n",
       "      <td>Evening</td>\n",
       "      <td>0 days 00:04:11</td>\n",
       "      <td>Manhattan</td>\n",
       "      <td>Manhattan</td>\n",
       "      <td>Lincoln Square East</td>\n",
       "    </tr>\n",
       "    <tr>\n",
       "      <th>33050209</th>\n",
       "      <td>1.0</td>\n",
       "      <td>2019-06-02 17:24:54</td>\n",
       "      <td>2019-06-02 17:28:13</td>\n",
       "      <td>2.0</td>\n",
       "      <td>0.3</td>\n",
       "      <td>1.0</td>\n",
       "      <td>N</td>\n",
       "      <td>142</td>\n",
       "      <td>142</td>\n",
       "      <td>1.0</td>\n",
       "      <td>...</td>\n",
       "      <td>Sunday</td>\n",
       "      <td>Sunday</td>\n",
       "      <td>17</td>\n",
       "      <td>17</td>\n",
       "      <td>Evening</td>\n",
       "      <td>Evening</td>\n",
       "      <td>0 days 00:03:19</td>\n",
       "      <td>Manhattan</td>\n",
       "      <td>Manhattan</td>\n",
       "      <td>Lincoln Square East</td>\n",
       "    </tr>\n",
       "  </tbody>\n",
       "</table>\n",
       "<p>5 rows × 30 columns</p>\n",
       "</div>"
      ],
      "text/plain": [
       "          VendorID      pickup_datetime     dropoff_datetime  passenger_count  \\\n",
       "33050205       1.0  2019-06-02 17:41:35  2019-06-02 17:45:08              1.0   \n",
       "33050206       1.0  2019-06-02 17:54:34  2019-06-02 18:02:15              1.0   \n",
       "33050207       1.0  2019-06-02 17:08:31  2019-06-02 17:13:41              2.0   \n",
       "33050208       1.0  2019-06-02 17:15:02  2019-06-02 17:19:13              1.0   \n",
       "33050209       1.0  2019-06-02 17:24:54  2019-06-02 17:28:13              2.0   \n",
       "\n",
       "          trip_distance  RatecodeID store_and_fwd_flag  PULocationID  \\\n",
       "33050205            0.5         1.0                  N           239   \n",
       "33050206            1.6         1.0                  N           142   \n",
       "33050207            0.8         1.0                  N           161   \n",
       "33050208            0.7         1.0                  N           142   \n",
       "33050209            0.3         1.0                  N           142   \n",
       "\n",
       "          DOLocationID  payment_type  ...  pickup_day_of_week  \\\n",
       "33050205           143           1.0  ...              Sunday   \n",
       "33050206           236           1.0  ...              Sunday   \n",
       "33050207            43           2.0  ...              Sunday   \n",
       "33050208            43           1.0  ...              Sunday   \n",
       "33050209           142           1.0  ...              Sunday   \n",
       "\n",
       "          dropoff_day_of_week  pickup_hour  dropoff_hour  pickup_timeofday  \\\n",
       "33050205               Sunday           17            17           Evening   \n",
       "33050206               Sunday           17            18           Evening   \n",
       "33050207               Sunday           17            17           Evening   \n",
       "33050208               Sunday           17            17           Evening   \n",
       "33050209               Sunday           17            17           Evening   \n",
       "\n",
       "          dropoff_timeofday        trip_time  pickup_borough dropoff_borough  \\\n",
       "33050205            Evening  0 days 00:03:33       Manhattan       Manhattan   \n",
       "33050206            Evening  0 days 00:07:41       Manhattan       Manhattan   \n",
       "33050207            Evening  0 days 00:05:10       Manhattan       Manhattan   \n",
       "33050208            Evening  0 days 00:04:11       Manhattan       Manhattan   \n",
       "33050209            Evening  0 days 00:03:19       Manhattan       Manhattan   \n",
       "\n",
       "                           zone  \n",
       "33050205  Upper West Side South  \n",
       "33050206    Lincoln Square East  \n",
       "33050207         Midtown Center  \n",
       "33050208    Lincoln Square East  \n",
       "33050209    Lincoln Square East  \n",
       "\n",
       "[5 rows x 30 columns]"
      ]
     },
     "execution_count": 14,
     "metadata": {},
     "output_type": "execute_result"
    }
   ],
   "source": [
    "taxi_2019.tail()"
   ]
  },
  {
   "cell_type": "code",
   "execution_count": 18,
   "id": "9ba7f72c-c670-4c66-ab25-e6c0a745a7ff",
   "metadata": {},
   "outputs": [
    {
     "data": {
      "image/png": "[encoded data removed]",
      "text/plain": [
       "<Figure size 1440x360 with 2 Axes>"
      ]
     },
     "metadata": {
      "needs_background": "light"
     },
     "output_type": "display_data"
    }
   ],
   "source": [
    "## Passenger Count by Pickup Day\n",
    "figure,(ax1,ax2)=plt.subplots(ncols=2,figsize=(20,5))\n",
    "ax1.set_title('Pickup Days')\n",
    "ax=sns.countplot(data=taxi_2019, x='pickup_day_of_week', hue='pickup_borough', ax=ax1);\n",
    "\n",
    "## Passenger Count by Dropoff Days\n",
    "ax2.set_title('Dropoff Days')\n",
    "ax=sns.countplot(data=taxi_2019, x='dropoff_day_of_week', hue='dropoff_borough', ax=ax2);\n",
    "# sns.countplot(x=\"dropoff_day_of_week\",data=taxi_2019,ax=ax2)"
   ]
  },
  {
   "cell_type": "code",
   "execution_count": 20,
   "id": "6995d0ee-c7b6-4306-9742-30b54dd8ddd3",
   "metadata": {},
   "outputs": [
    {
     "data": {
      "image/png": "[encoded data removed]",
      "text/plain": [
       "<Figure size 1440x360 with 2 Axes>"
      ]
     },
     "metadata": {
      "needs_background": "light"
     },
     "output_type": "display_data"
    }
   ],
   "source": [
    "## Passenger Count by Pickup Day\n",
    "figure,(ax1,ax2)=plt.subplots(ncols=2,figsize=(20,5))\n",
    "ax1.set_title('Pickup Days')\n",
    "ax=sns.countplot(data=taxi_2019, x='pickup_day_of_week', ax=ax1);\n",
    "\n",
    "## Passenger Count by Dropoff Days\n",
    "ax2.set_title('Dropoff Days')\n",
    "ax=sns.countplot(data=taxi_2019, x='dropoff_day_of_week', ax=ax2);\n",
    "# sns.countplot(x=\"dropoff_day_of_week\",data=taxi_2019,ax=ax2)"
   ]
  },
  {
   "cell_type": "code",
   "execution_count": 19,
   "id": "f7887d5d-61bc-49de-8fc9-39447a3a5247",
   "metadata": {},
   "outputs": [
    {
     "ename": "ValueError",
     "evalue": "Could not interpret input 'dropoff_timeofday'",
     "output_type": "error",
     "traceback": [
      "\u001b[0;31m---------------------------------------------------------------------------\u001b[0m",
      "\u001b[0;31mValueError\u001b[0m                                Traceback (most recent call last)",
      "\u001b[0;32m/var/folders/85/gfsz06392cx1589spz1jvvtc0000gn/T/ipykernel_20125/4063968447.py\u001b[0m in \u001b[0;36m<module>\u001b[0;34m\u001b[0m\n\u001b[1;32m      6\u001b[0m \u001b[0;31m## Dropoff trips by time of day\u001b[0m\u001b[0;34m\u001b[0m\u001b[0;34m\u001b[0m\u001b[0;34m\u001b[0m\u001b[0m\n\u001b[1;32m      7\u001b[0m \u001b[0max2\u001b[0m\u001b[0;34m.\u001b[0m\u001b[0mset_title\u001b[0m\u001b[0;34m(\u001b[0m\u001b[0;34m'Dropoff Time of Day'\u001b[0m\u001b[0;34m)\u001b[0m\u001b[0;34m\u001b[0m\u001b[0;34m\u001b[0m\u001b[0m\n\u001b[0;32m----> 8\u001b[0;31m \u001b[0max\u001b[0m\u001b[0;34m=\u001b[0m\u001b[0msns\u001b[0m\u001b[0;34m.\u001b[0m\u001b[0mcountplot\u001b[0m\u001b[0;34m(\u001b[0m\u001b[0mx\u001b[0m\u001b[0;34m=\u001b[0m\u001b[0;34m\"dropoff_timeofday\"\u001b[0m\u001b[0;34m,\u001b[0m\u001b[0mdata\u001b[0m\u001b[0;34m=\u001b[0m\u001b[0mtaxi_2019\u001b[0m\u001b[0;34m,\u001b[0m\u001b[0max\u001b[0m\u001b[0;34m=\u001b[0m\u001b[0max2\u001b[0m\u001b[0;34m,\u001b[0m \u001b[0mcolor\u001b[0m\u001b[0;34m=\u001b[0m\u001b[0;34m'green'\u001b[0m\u001b[0;34m)\u001b[0m\u001b[0;34m;\u001b[0m\u001b[0;34m\u001b[0m\u001b[0;34m\u001b[0m\u001b[0m\n\u001b[0m",
      "\u001b[0;32m~/opt/miniconda3/lib/python3.9/site-packages/seaborn/_decorators.py\u001b[0m in \u001b[0;36minner_f\u001b[0;34m(*args, **kwargs)\u001b[0m\n\u001b[1;32m     44\u001b[0m             )\n\u001b[1;32m     45\u001b[0m         \u001b[0mkwargs\u001b[0m\u001b[0;34m.\u001b[0m\u001b[0mupdate\u001b[0m\u001b[0;34m(\u001b[0m\u001b[0;34m{\u001b[0m\u001b[0mk\u001b[0m\u001b[0;34m:\u001b[0m \u001b[0marg\u001b[0m \u001b[0;32mfor\u001b[0m \u001b[0mk\u001b[0m\u001b[0;34m,\u001b[0m \u001b[0marg\u001b[0m \u001b[0;32min\u001b[0m \u001b[0mzip\u001b[0m\u001b[0;34m(\u001b[0m\u001b[0msig\u001b[0m\u001b[0;34m.\u001b[0m\u001b[0mparameters\u001b[0m\u001b[0;34m,\u001b[0m \u001b[0margs\u001b[0m\u001b[0;34m)\u001b[0m\u001b[0;34m}\u001b[0m\u001b[0;34m)\u001b[0m\u001b[0;34m\u001b[0m\u001b[0;34m\u001b[0m\u001b[0m\n\u001b[0;32m---> 46\u001b[0;31m         \u001b[0;32mreturn\u001b[0m \u001b[0mf\u001b[0m\u001b[0;34m(\u001b[0m\u001b[0;34m**\u001b[0m\u001b[0mkwargs\u001b[0m\u001b[0;34m)\u001b[0m\u001b[0;34m\u001b[0m\u001b[0;34m\u001b[0m\u001b[0m\n\u001b[0m\u001b[1;32m     47\u001b[0m     \u001b[0;32mreturn\u001b[0m \u001b[0minner_f\u001b[0m\u001b[0;34m\u001b[0m\u001b[0;34m\u001b[0m\u001b[0m\n\u001b[1;32m     48\u001b[0m \u001b[0;34m\u001b[0m\u001b[0m\n",
      "\u001b[0;32m~/opt/miniconda3/lib/python3.9/site-packages/seaborn/categorical.py\u001b[0m in \u001b[0;36mcountplot\u001b[0;34m(x, y, hue, data, order, hue_order, orient, color, palette, saturation, dodge, ax, **kwargs)\u001b[0m\n\u001b[1;32m   3596\u001b[0m         \u001b[0;32mraise\u001b[0m \u001b[0mValueError\u001b[0m\u001b[0;34m(\u001b[0m\u001b[0;34m\"Cannot pass values for both `x` and `y`\"\u001b[0m\u001b[0;34m)\u001b[0m\u001b[0;34m\u001b[0m\u001b[0;34m\u001b[0m\u001b[0m\n\u001b[1;32m   3597\u001b[0m \u001b[0;34m\u001b[0m\u001b[0m\n\u001b[0;32m-> 3598\u001b[0;31m     plotter = _CountPlotter(\n\u001b[0m\u001b[1;32m   3599\u001b[0m         \u001b[0mx\u001b[0m\u001b[0;34m,\u001b[0m \u001b[0my\u001b[0m\u001b[0;34m,\u001b[0m \u001b[0mhue\u001b[0m\u001b[0;34m,\u001b[0m \u001b[0mdata\u001b[0m\u001b[0;34m,\u001b[0m \u001b[0morder\u001b[0m\u001b[0;34m,\u001b[0m \u001b[0mhue_order\u001b[0m\u001b[0;34m,\u001b[0m\u001b[0;34m\u001b[0m\u001b[0;34m\u001b[0m\u001b[0m\n\u001b[1;32m   3600\u001b[0m         \u001b[0mestimator\u001b[0m\u001b[0;34m,\u001b[0m \u001b[0mci\u001b[0m\u001b[0;34m,\u001b[0m \u001b[0mn_boot\u001b[0m\u001b[0;34m,\u001b[0m \u001b[0munits\u001b[0m\u001b[0;34m,\u001b[0m \u001b[0mseed\u001b[0m\u001b[0;34m,\u001b[0m\u001b[0;34m\u001b[0m\u001b[0;34m\u001b[0m\u001b[0m\n",
      "\u001b[0;32m~/opt/miniconda3/lib/python3.9/site-packages/seaborn/categorical.py\u001b[0m in \u001b[0;36m__init__\u001b[0;34m(self, x, y, hue, data, order, hue_order, estimator, ci, n_boot, units, seed, orient, color, palette, saturation, errcolor, errwidth, capsize, dodge)\u001b[0m\n\u001b[1;32m   1582\u001b[0m                  errwidth, capsize, dodge):\n\u001b[1;32m   1583\u001b[0m         \u001b[0;34m\"\"\"Initialize the plotter.\"\"\"\u001b[0m\u001b[0;34m\u001b[0m\u001b[0;34m\u001b[0m\u001b[0m\n\u001b[0;32m-> 1584\u001b[0;31m         self.establish_variables(x, y, hue, data, orient,\n\u001b[0m\u001b[1;32m   1585\u001b[0m                                  order, hue_order, units)\n\u001b[1;32m   1586\u001b[0m         \u001b[0mself\u001b[0m\u001b[0;34m.\u001b[0m\u001b[0mestablish_colors\u001b[0m\u001b[0;34m(\u001b[0m\u001b[0mcolor\u001b[0m\u001b[0;34m,\u001b[0m \u001b[0mpalette\u001b[0m\u001b[0;34m,\u001b[0m \u001b[0msaturation\u001b[0m\u001b[0;34m)\u001b[0m\u001b[0;34m\u001b[0m\u001b[0;34m\u001b[0m\u001b[0m\n",
      "\u001b[0;32m~/opt/miniconda3/lib/python3.9/site-packages/seaborn/categorical.py\u001b[0m in \u001b[0;36mestablish_variables\u001b[0;34m(self, x, y, hue, data, orient, order, hue_order, units)\u001b[0m\n\u001b[1;32m    151\u001b[0m                 \u001b[0;32mif\u001b[0m \u001b[0misinstance\u001b[0m\u001b[0;34m(\u001b[0m\u001b[0mvar\u001b[0m\u001b[0;34m,\u001b[0m \u001b[0mstr\u001b[0m\u001b[0;34m)\u001b[0m\u001b[0;34m:\u001b[0m\u001b[0;34m\u001b[0m\u001b[0;34m\u001b[0m\u001b[0m\n\u001b[1;32m    152\u001b[0m                     \u001b[0merr\u001b[0m \u001b[0;34m=\u001b[0m \u001b[0;34m\"Could not interpret input '{}'\"\u001b[0m\u001b[0;34m.\u001b[0m\u001b[0mformat\u001b[0m\u001b[0;34m(\u001b[0m\u001b[0mvar\u001b[0m\u001b[0;34m)\u001b[0m\u001b[0;34m\u001b[0m\u001b[0;34m\u001b[0m\u001b[0m\n\u001b[0;32m--> 153\u001b[0;31m                     \u001b[0;32mraise\u001b[0m \u001b[0mValueError\u001b[0m\u001b[0;34m(\u001b[0m\u001b[0merr\u001b[0m\u001b[0;34m)\u001b[0m\u001b[0;34m\u001b[0m\u001b[0;34m\u001b[0m\u001b[0m\n\u001b[0m\u001b[1;32m    154\u001b[0m \u001b[0;34m\u001b[0m\u001b[0m\n\u001b[1;32m    155\u001b[0m             \u001b[0;31m# Figure out the plotting orientation\u001b[0m\u001b[0;34m\u001b[0m\u001b[0;34m\u001b[0m\u001b[0;34m\u001b[0m\u001b[0m\n",
      "\u001b[0;31mValueError\u001b[0m: Could not interpret input 'dropoff_timeofday'"
     ]
    },
    {
     "data": {
      "image/png": "[encoded data removed]",
      "text/plain": [
       "<Figure size 1440x360 with 2 Axes>"
      ]
     },
     "metadata": {
      "needs_background": "light"
     },
     "output_type": "display_data"
    }
   ],
   "source": [
    "## Picked up trips by time of day\n",
    "figure,(ax1,ax2)=plt.subplots(ncols=2,figsize=(20,5))\n",
    "ax1.set_title('Pickup Time of Day')\n",
    "ax=sns.countplot(x=\"pickup_timeofday\",data=taxi_2019,ax=ax1, color='green');\n",
    "\n",
    "## Dropoff trips by time of day\n",
    "ax2.set_title('Dropoff Time of Day')\n",
    "ax=sns.countplot(x=\"dropoff_timeofday\",data=taxi_2019,ax=ax2, color='green');"
   ]
  },
  {
   "cell_type": "code",
   "execution_count": 20,
   "id": "c6d7cec5-dc5d-40c3-9e66-954a1037f1cf",
   "metadata": {},
   "outputs": [],
   "source": [
    "## Taxis are hailed predominantly in the evening hours"
   ]
  },
  {
   "cell_type": "code",
   "execution_count": 22,
   "id": "c597d929-56d8-41f0-82fc-685cd3808aae",
   "metadata": {},
   "outputs": [],
   "source": [
    "# Dihistplotnce of trips by Time of day\n",
    "# sns.lineplot(x='pickup_timeofday',y='trip_distance',data=taxi_2019)"
   ]
  },
  {
   "cell_type": "code",
   "execution_count": 23,
   "id": "055038dd-5de6-4083-b171-9445e2e010ab",
   "metadata": {},
   "outputs": [],
   "source": [
    "# Don't want to look at any trips over 100 mile radius of NYC\n",
    "taxi_2019 = taxi_2019.drop((taxi_2019.loc[taxi_2019['trip_distance'] > 100]).index)"
   ]
  },
  {
   "cell_type": "code",
   "execution_count": 24,
   "id": "4f17a287-03e3-4204-837e-b4885f92c259",
   "metadata": {},
   "outputs": [
    {
     "data": {
      "text/plain": [
       "<AxesSubplot:xlabel='trip_distance', ylabel='Count'>"
      ]
     },
     "execution_count": 24,
     "metadata": {},
     "output_type": "execute_result"
    },
    {
     "data": {
      "image/png": "[encoded data removed]",
      "text/plain": [
       "<Figure size 432x288 with 1 Axes>"
      ]
     },
     "metadata": {
      "needs_background": "light"
     },
     "output_type": "display_data"
    }
   ],
   "source": [
    "sns.histplot(taxi_2019['trip_distance'], bins= 10)"
   ]
  },
  {
   "cell_type": "code",
   "execution_count": 21,
   "id": "7f3aefce-57c0-483e-9fbc-1b4b35ac5a00",
   "metadata": {},
   "outputs": [
    {
     "data": {
      "text/plain": [
       "(705044, 28)"
      ]
     },
     "execution_count": 21,
     "metadata": {},
     "output_type": "execute_result"
    }
   ],
   "source": [
    "taxi_2019.loc[taxi_2019['trip_distance'] == 0].shape"
   ]
  },
  {
   "cell_type": "markdown",
   "id": "02feab45-6bfd-4d60-abb0-0c7c02c63016",
   "metadata": {},
   "source": [
    "There are 705k rides where the trip distance is 0. \n",
    "The reasons for 0 km distance can be:\n",
    "\n",
    "- The dropoff location couldn’t be tracked.\n",
    "- The driver deliberately took this ride to complete a target ride number.\n",
    "- The passengers canceled the trip.\n"
   ]
  },
  {
   "cell_type": "code",
   "execution_count": 22,
   "id": "d27b3625-7311-4fdd-a803-9a77e8d81ca9",
   "metadata": {},
   "outputs": [],
   "source": [
    "## Dropping these \n",
    "taxi_2019 = taxi_2019[taxi_2019['trip_distance'] != 0]"
   ]
  },
  {
   "cell_type": "code",
   "execution_count": 24,
   "id": "715081df-9b19-4fca-89d7-697015275247",
   "metadata": {},
   "outputs": [
    {
     "data": {
      "image/png": "[encoded data removed]",
      "text/plain": [
       "<Figure size 432x288 with 1 Axes>"
      ]
     },
     "metadata": {
      "needs_background": "light"
     },
     "output_type": "display_data"
    }
   ],
   "source": [
    "sns.histplot(taxi_2019['trip_distance'], bins= 5);"
   ]
  },
  {
   "cell_type": "code",
   "execution_count": null,
   "id": "98b105d9-fc17-4d0a-9f78-3f6ea828c1c2",
   "metadata": {},
   "outputs": [],
   "source": [
    "## majority of rides are under a mile"
   ]
  },
  {
   "cell_type": "code",
   "execution_count": 28,
   "id": "6a47342c-6c53-49a1-8c33-b6dafa5e11c7",
   "metadata": {},
   "outputs": [
    {
     "data": {
      "text/plain": [
       "''"
      ]
     },
     "execution_count": 28,
     "metadata": {},
     "output_type": "execute_result"
    },
    {
     "data": {
      "image/png": "[encoded data removed]",
      "text/plain": [
       "<Figure size 432x288 with 1 Axes>"
      ]
     },
     "metadata": {
      "needs_background": "light"
     },
     "output_type": "display_data"
    }
   ],
   "source": [
    "## Passenger count per ride\n",
    "taxi_2019['passenger_count'].value_counts(ascending=True).plot(kind='barh')\n",
    ";"
   ]
  },
  {
   "cell_type": "code",
   "execution_count": 29,
   "id": "12fcfeac-c447-4529-b571-049ca7d1865b",
   "metadata": {},
   "outputs": [],
   "source": [
    "##excluding rows over 6 passengers and 0 passengers\n",
    "taxi_2019 = taxi_2019[taxi_2019['passenger_count'] <= 6]\n",
    "taxi_2019 = taxi_2019[taxi_2019['passenger_count'] != 0]"
   ]
  },
  {
   "cell_type": "code",
   "execution_count": 30,
   "id": "f027ccc0-15ea-468d-b797-78725be04613",
   "metadata": {},
   "outputs": [
    {
     "data": {
      "text/plain": [
       "1.0    55117440\n",
       "2.0    11990314\n",
       "3.0     3361109\n",
       "5.0     3179707\n",
       "6.0     1905716\n",
       "4.0     1604526\n",
       "Name: passenger_count, dtype: int64"
      ]
     },
     "execution_count": 30,
     "metadata": {},
     "output_type": "execute_result"
    }
   ],
   "source": [
    "taxi_2019['passenger_count'].value_counts(ascending=False)"
   ]
  },
  {
   "cell_type": "code",
   "execution_count": 31,
   "id": "5b2b092d-f5e9-4a2a-85c3-693fb5f49e78",
   "metadata": {},
   "outputs": [
    {
     "data": {
      "text/plain": [
       "''"
      ]
     },
     "execution_count": 31,
     "metadata": {},
     "output_type": "execute_result"
    },
    {
     "data": {
      "image/png": "[encoded data removed]",
      "text/plain": [
       "<Figure size 432x288 with 1 Axes>"
      ]
     },
     "metadata": {
      "needs_background": "light"
     },
     "output_type": "display_data"
    }
   ],
   "source": [
    "## Passenger count per ride\n",
    "taxi_2019['passenger_count'].value_counts(ascending=True).plot(kind='barh')\n",
    ";"
   ]
  },
  {
   "cell_type": "code",
   "execution_count": 32,
   "id": "7508d886-1d87-443e-9a56-8e301bdf7f3d",
   "metadata": {},
   "outputs": [],
   "source": [
    "#saving file again after additional cleaning\n",
    "taxi_2019.to_csv('data/taxi_2019_clean_2.csv')"
   ]
  },
  {
   "cell_type": "code",
   "execution_count": 50,
   "id": "bfb0c4cb-cb32-4233-8a9e-042e172c8f8c",
   "metadata": {},
   "outputs": [
    {
     "data": {
      "text/plain": [
       "<AxesSubplot:xlabel='passenger_count', ylabel='count'>"
      ]
     },
     "execution_count": 50,
     "metadata": {},
     "output_type": "execute_result"
    },
    {
     "data": {
      "image/png": "[encoded data removed]",
      "text/plain": [
       "<Figure size 432x288 with 1 Axes>"
      ]
     },
     "metadata": {
      "needs_background": "light"
     },
     "output_type": "display_data"
    }
   ],
   "source": [
    "sns.countplot(x='passenger_count',data=taxi_2019)"
   ]
  },
  {
   "cell_type": "code",
   "execution_count": 51,
   "id": "e9e3cef2-403e-4e25-b435-e2a5ee5fd792",
   "metadata": {},
   "outputs": [],
   "source": [
    "## Majority of rides are hailed by paties of 1"
   ]
  },
  {
   "cell_type": "code",
   "execution_count": 54,
   "id": "495e5403-ac6e-4832-b099-720f2edb8361",
   "metadata": {},
   "outputs": [
    {
     "data": {
      "text/plain": [
       "VendorID                 float64\n",
       "pickup_datetime           object\n",
       "dropoff_datetime          object\n",
       "passenger_count          float64\n",
       "trip_distance            float64\n",
       "RatecodeID               float64\n",
       "store_and_fwd_flag        object\n",
       "PULocationID               int64\n",
       "DOLocationID               int64\n",
       "payment_type             float64\n",
       "fare_amount              float64\n",
       "extra                    float64\n",
       "mta_tax                  float64\n",
       "tip_amount               float64\n",
       "tolls_amount             float64\n",
       "improvement_surcharge    float64\n",
       "total_amount             float64\n",
       "congestion_surcharge     float64\n",
       "month                     object\n",
       "year                       int64\n",
       "pickup_day_of_week        object\n",
       "dropoff_day_of_week       object\n",
       "pickup_hour                int64\n",
       "dropoff_hour               int64\n",
       "pickup_timeofday          object\n",
       "dropoff_timeofday         object\n",
       "trip_time                 object\n",
       "pickup_borough            object\n",
       "dropoff_borough           object\n",
       "zone                      object\n",
       "dtype: object"
      ]
     },
     "execution_count": 54,
     "metadata": {},
     "output_type": "execute_result"
    }
   ],
   "source": [
    "taxi_2019.dtypes"
   ]
  },
  {
   "cell_type": "code",
   "execution_count": null,
   "id": "621d800f-b7da-4e09-88cc-52bf9e93176c",
   "metadata": {},
   "outputs": [],
   "source": [
    "## Looking at distances \n",
    "plt.figure(figsize=(12,8))\n",
    "(taxi_2019['trip_distance'].value_counts(ascending=False)).plot(kind= 'hist', bins=50)"
   ]
  },
  {
   "cell_type": "code",
   "execution_count": 2,
   "id": "2933b35f-8d3a-4df0-b372-246bc109e9d5",
   "metadata": {},
   "outputs": [],
   "source": [
    "## sns.lineplot(y='trip_time',x='pickup_timeofday',data=taxi_2019)\n",
    "## Reloading cleaned_2 file\n",
    "\n",
    "taxi_2019 = pd.read_csv('./data/taxi_2019_clean_2.csv')\n"
   ]
  },
  {
   "cell_type": "code",
   "execution_count": 3,
   "id": "b3bbe76c-b8f7-4df0-95db-4c0ad919b9c2",
   "metadata": {},
   "outputs": [],
   "source": [
    "taxi_2019['pickup_datetime'] = pd.to_datetime(taxi_2019['pickup_datetime'])"
   ]
  },
  {
   "cell_type": "code",
   "execution_count": 4,
   "id": "5a09aba1-d1f7-48d0-a52c-c76edf8ba17e",
   "metadata": {},
   "outputs": [],
   "source": [
    "\n",
    "\n",
    "taxi_2019 = taxi_2019.set_index(pd.DatetimeIndex(taxi_2019['pickup_datetime']))"
   ]
  },
  {
   "cell_type": "code",
   "execution_count": 5,
   "id": "65707523-7502-4b97-a5d7-27da88cbf873",
   "metadata": {},
   "outputs": [
    {
     "data": {
      "text/html": [
       "<div>\n",
       "<style scoped>\n",
       "    .dataframe tbody tr th:only-of-type {\n",
       "        vertical-align: middle;\n",
       "    }\n",
       "\n",
       "    .dataframe tbody tr th {\n",
       "        vertical-align: top;\n",
       "    }\n",
       "\n",
       "    .dataframe thead th {\n",
       "        text-align: right;\n",
       "    }\n",
       "</style>\n",
       "<table border=\"1\" class=\"dataframe\">\n",
       "  <thead>\n",
       "    <tr style=\"text-align: right;\">\n",
       "      <th></th>\n",
       "      <th>Unnamed: 0</th>\n",
       "      <th>VendorID</th>\n",
       "      <th>pickup_datetime</th>\n",
       "      <th>dropoff_datetime</th>\n",
       "      <th>passenger_count</th>\n",
       "      <th>trip_distance</th>\n",
       "      <th>RatecodeID</th>\n",
       "      <th>store_and_fwd_flag</th>\n",
       "      <th>PULocationID</th>\n",
       "      <th>DOLocationID</th>\n",
       "      <th>...</th>\n",
       "      <th>pickup_day_of_week</th>\n",
       "      <th>dropoff_day_of_week</th>\n",
       "      <th>pickup_hour</th>\n",
       "      <th>dropoff_hour</th>\n",
       "      <th>pickup_timeofday</th>\n",
       "      <th>dropoff_timeofday</th>\n",
       "      <th>trip_time</th>\n",
       "      <th>pickup_borough</th>\n",
       "      <th>dropoff_borough</th>\n",
       "      <th>zone</th>\n",
       "    </tr>\n",
       "    <tr>\n",
       "      <th>pickup_datetime</th>\n",
       "      <th></th>\n",
       "      <th></th>\n",
       "      <th></th>\n",
       "      <th></th>\n",
       "      <th></th>\n",
       "      <th></th>\n",
       "      <th></th>\n",
       "      <th></th>\n",
       "      <th></th>\n",
       "      <th></th>\n",
       "      <th></th>\n",
       "      <th></th>\n",
       "      <th></th>\n",
       "      <th></th>\n",
       "      <th></th>\n",
       "      <th></th>\n",
       "      <th></th>\n",
       "      <th></th>\n",
       "      <th></th>\n",
       "      <th></th>\n",
       "      <th></th>\n",
       "    </tr>\n",
       "  </thead>\n",
       "  <tbody>\n",
       "    <tr>\n",
       "      <th>2019-01-01 07:01:20</th>\n",
       "      <td>0</td>\n",
       "      <td>1.0</td>\n",
       "      <td>2019-01-01 07:01:20</td>\n",
       "      <td>2019-01-31 14:29:21</td>\n",
       "      <td>1.0</td>\n",
       "      <td>1.2</td>\n",
       "      <td>1.0</td>\n",
       "      <td>N</td>\n",
       "      <td>48</td>\n",
       "      <td>163</td>\n",
       "      <td>...</td>\n",
       "      <td>Tuesday</td>\n",
       "      <td>Thursday</td>\n",
       "      <td>7</td>\n",
       "      <td>14</td>\n",
       "      <td>Morning</td>\n",
       "      <td>Afternoon</td>\n",
       "      <td>30 days 07:28:01</td>\n",
       "      <td>Manhattan</td>\n",
       "      <td>Manhattan</td>\n",
       "      <td>Clinton East</td>\n",
       "    </tr>\n",
       "    <tr>\n",
       "      <th>2019-01-03 21:43:46</th>\n",
       "      <td>1</td>\n",
       "      <td>1.0</td>\n",
       "      <td>2019-01-03 21:43:46</td>\n",
       "      <td>2019-01-03 21:45:47</td>\n",
       "      <td>1.0</td>\n",
       "      <td>0.6</td>\n",
       "      <td>1.0</td>\n",
       "      <td>N</td>\n",
       "      <td>263</td>\n",
       "      <td>141</td>\n",
       "      <td>...</td>\n",
       "      <td>Thursday</td>\n",
       "      <td>Thursday</td>\n",
       "      <td>21</td>\n",
       "      <td>21</td>\n",
       "      <td>Evening</td>\n",
       "      <td>Evening</td>\n",
       "      <td>0 days 00:02:01</td>\n",
       "      <td>Manhattan</td>\n",
       "      <td>Manhattan</td>\n",
       "      <td>Yorkville West</td>\n",
       "    </tr>\n",
       "  </tbody>\n",
       "</table>\n",
       "<p>2 rows × 31 columns</p>\n",
       "</div>"
      ],
      "text/plain": [
       "                     Unnamed: 0  VendorID     pickup_datetime  \\\n",
       "pickup_datetime                                                 \n",
       "2019-01-01 07:01:20           0       1.0 2019-01-01 07:01:20   \n",
       "2019-01-03 21:43:46           1       1.0 2019-01-03 21:43:46   \n",
       "\n",
       "                        dropoff_datetime  passenger_count  trip_distance  \\\n",
       "pickup_datetime                                                            \n",
       "2019-01-01 07:01:20  2019-01-31 14:29:21              1.0            1.2   \n",
       "2019-01-03 21:43:46  2019-01-03 21:45:47              1.0            0.6   \n",
       "\n",
       "                     RatecodeID store_and_fwd_flag  PULocationID  \\\n",
       "pickup_datetime                                                    \n",
       "2019-01-01 07:01:20         1.0                  N            48   \n",
       "2019-01-03 21:43:46         1.0                  N           263   \n",
       "\n",
       "                     DOLocationID  ...  pickup_day_of_week  \\\n",
       "pickup_datetime                    ...                       \n",
       "2019-01-01 07:01:20           163  ...             Tuesday   \n",
       "2019-01-03 21:43:46           141  ...            Thursday   \n",
       "\n",
       "                     dropoff_day_of_week  pickup_hour  dropoff_hour  \\\n",
       "pickup_datetime                                                       \n",
       "2019-01-01 07:01:20             Thursday            7            14   \n",
       "2019-01-03 21:43:46             Thursday           21            21   \n",
       "\n",
       "                     pickup_timeofday  dropoff_timeofday         trip_time  \\\n",
       "pickup_datetime                                                              \n",
       "2019-01-01 07:01:20           Morning          Afternoon  30 days 07:28:01   \n",
       "2019-01-03 21:43:46           Evening            Evening   0 days 00:02:01   \n",
       "\n",
       "                     pickup_borough  dropoff_borough            zone  \n",
       "pickup_datetime                                                       \n",
       "2019-01-01 07:01:20       Manhattan        Manhattan    Clinton East  \n",
       "2019-01-03 21:43:46       Manhattan        Manhattan  Yorkville West  \n",
       "\n",
       "[2 rows x 31 columns]"
      ]
     },
     "execution_count": 5,
     "metadata": {},
     "output_type": "execute_result"
    }
   ],
   "source": [
    "taxi_2019.head(2)"
   ]
  },
  {
   "cell_type": "code",
   "execution_count": null,
   "id": "8b149760-3ab7-47d8-a52f-bc97e2dbb8b6",
   "metadata": {},
   "outputs": [],
   "source": []
  },
  {
   "cell_type": "code",
   "execution_count": 6,
   "id": "d440e6b0-069b-44d6-9b14-7a3f19d06293",
   "metadata": {},
   "outputs": [],
   "source": [
    "taxi_2019 = taxi_2019.sort_index()"
   ]
  },
  {
   "cell_type": "code",
   "execution_count": 12,
   "id": "c7235c88-fcf4-4242-ab99-19f5e043474b",
   "metadata": {},
   "outputs": [
    {
     "data": {
      "text/plain": [
       "(32234031, 31)"
      ]
     },
     "execution_count": 12,
     "metadata": {},
     "output_type": "execute_result"
    }
   ],
   "source": [
    "taxi_2019.shape"
   ]
  },
  {
   "cell_type": "code",
   "execution_count": 30,
   "id": "2ff90c33-2a7d-498a-83be-4271baf3f359",
   "metadata": {},
   "outputs": [
    {
     "data": {
      "text/plain": [
       "mar    7640788\n",
       "may    7367221\n",
       "apr    7247399\n",
       "feb    6852381\n",
       "jan    2747691\n",
       "jun     378551\n",
       "Name: month, dtype: int64"
      ]
     },
     "execution_count": 30,
     "metadata": {},
     "output_type": "execute_result"
    }
   ],
   "source": [
    "taxi_2019['month'].value_counts()"
   ]
  },
  {
   "cell_type": "code",
   "execution_count": null,
   "id": "9d30919b-07db-4275-b036-2e42483ce5c5",
   "metadata": {},
   "outputs": [],
   "source": [
    "32_233_783"
   ]
  },
  {
   "cell_type": "code",
   "execution_count": 74,
   "id": "e394342b-5515-4258-99af-5d4f1e39264e",
   "metadata": {},
   "outputs": [
    {
     "data": {
      "text/plain": [
       "0          2020-01-01 00:28:15\n",
       "1          2020-01-01 00:35:39\n",
       "2          2020-01-01 00:47:41\n",
       "3          2020-01-01 00:55:23\n",
       "4          2020-01-01 00:01:58\n",
       "                  ...         \n",
       "1362436    2020-12-31 23:05:33\n",
       "1362437    2020-12-31 22:57:20\n",
       "1362438    2020-12-31 23:40:35\n",
       "1362439    2020-12-31 23:54:57\n",
       "1362440    2020-12-31 23:11:16\n",
       "Name: tpep_pickup_datetime, Length: 23838931, dtype: object"
      ]
     },
     "execution_count": 74,
     "metadata": {},
     "output_type": "execute_result"
    }
   ],
   "source": [
    "taxi_2020['tpep_pickup_datetime'] = pd.to_datetime"
   ]
  },
  {
   "cell_type": "code",
   "execution_count": null,
   "id": "107a298b-4988-475a-8be4-89ab81a813c9",
   "metadata": {},
   "outputs": [],
   "source": [
    "## need to extract time and bin hours of the day"
   ]
  },
  {
   "cell_type": "code",
   "execution_count": 31,
   "id": "d4b8fef2-ea42-4727-8299-8f4c02428f7d",
   "metadata": {},
   "outputs": [
    {
     "data": {
      "text/plain": [
       "<AxesSubplot:>"
      ]
     },
     "execution_count": 31,
     "metadata": {},
     "output_type": "execute_result"
    },
    {
     "data": {
      "image/png": "[encoded data removed]",
      "text/plain": [
       "<Figure size 432x288 with 1 Axes>"
      ]
     },
     "metadata": {
      "needs_background": "light"
     },
     "output_type": "display_data"
    }
   ],
   "source": [
    "## Top rider months by percentage.\n",
    "(taxi_2019['month'].value_counts(ascending=True, normalize=True)*100).plot(kind='barh')"
   ]
  },
  {
   "cell_type": "code",
   "execution_count": null,
   "id": "fa228ebc-dfb2-4be2-8149-277d5ca90683",
   "metadata": {},
   "outputs": [],
   "source": [
    "## Higher amounts of taxi riders in the first two months of the year. I wonder how tourism affects this. They may be taking subway or apps like Uber/Lyft"
   ]
  },
  {
   "cell_type": "code",
   "execution_count": null,
   "id": "1ad8a952-87df-414b-b6f2-8bea03448eb0",
   "metadata": {},
   "outputs": [],
   "source": []
  },
  {
   "cell_type": "code",
   "execution_count": null,
   "id": "0307662e-9595-419c-ac02-19995fc72117",
   "metadata": {},
   "outputs": [],
   "source": []
  },
  {
   "cell_type": "code",
   "execution_count": null,
   "id": "f1cf673c-cc96-47f6-a88c-f41d58afef91",
   "metadata": {},
   "outputs": [],
   "source": []
  },
  {
   "cell_type": "code",
   "execution_count": 8,
   "id": "119421fd-174e-4c3a-9fee-b8decdc803ae",
   "metadata": {},
   "outputs": [],
   "source": [
    "## Reading in shapefile\n",
    "\n",
    "sf = gpd.read_file('./data/taxi_zones/')\n"
   ]
  },
  {
   "cell_type": "code",
   "execution_count": 9,
   "id": "8332aafc-64af-49a1-8165-728f552d9df1",
   "metadata": {},
   "outputs": [
    {
     "data": {
      "text/plain": [
       "(263, 7)"
      ]
     },
     "execution_count": 9,
     "metadata": {},
     "output_type": "execute_result"
    }
   ],
   "source": [
    "sf.shape"
   ]
  },
  {
   "cell_type": "code",
   "execution_count": 60,
   "id": "8db14197-c9c3-4636-b08e-82d419b1bc5a",
   "metadata": {},
   "outputs": [],
   "source": [
    "# geo_df = sf.merge(taxi_2019, on='zone')"
   ]
  },
  {
   "cell_type": "code",
   "execution_count": null,
   "id": "5f2da9b1-cc77-4fa9-9d6c-6c042b603e58",
   "metadata": {},
   "outputs": [],
   "source": [
    "geo_df['passenger_count'].shape"
   ]
  },
  {
   "cell_type": "code",
   "execution_count": null,
   "id": "ece5087d-bcbe-4f04-8a2c-deb5015c2cb7",
   "metadata": {},
   "outputs": [],
   "source": [
    "## checking dtype\n",
    "type(geo_df)"
   ]
  },
  {
   "cell_type": "code",
   "execution_count": null,
   "id": "be075d6c-bd60-4f51-81bc-5c982a28b65c",
   "metadata": {},
   "outputs": [],
   "source": [
    "geo_df.head()"
   ]
  },
  {
   "cell_type": "code",
   "execution_count": null,
   "id": "177c0292-2d06-4b1c-8778-490a3323c89d",
   "metadata": {},
   "outputs": [],
   "source": [
    "geo_df.columns"
   ]
  },
  {
   "cell_type": "code",
   "execution_count": null,
   "id": "ff126166-dcea-4aa1-a5b0-978f50209700",
   "metadata": {},
   "outputs": [],
   "source": [
    "## Passenger pickups by day of the week total\n",
    "\n",
    "geo_df.groupby(by=['pickup_day_of_week']).sum().sort_values(by='passenger_count',\n",
    "                                                            ascending=False)['passenger_count'][:10].plot(kind='bar', cmap='Accent')\n"
   ]
  }
 ],
 "metadata": {
  "kernelspec": {
   "display_name": "Python 3 (ipykernel)",
   "language": "python",
   "name": "python3"
  },
  "language_info": {
   "codemirror_mode": {
    "name": "ipython",
    "version": 3
   },
   "file_extension": ".py",
   "mimetype": "text/x-python",
   "name": "python",
   "nbconvert_exporter": "python",
   "pygments_lexer": "ipython3",
   "version": "3.9.5"
  }
 },
 "nbformat": 4,
 "nbformat_minor": 5
}
